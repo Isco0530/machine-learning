{
 "cells": [
  {
   "cell_type": "markdown",
   "metadata": {},
   "source": [
    "# 5.1交叉验证"
   ]
  },
  {
   "cell_type": "markdown",
   "metadata": {},
   "source": [
    "交叉验证是一种评估泛化性能的统计学方法，它比单次划分训练集和测试集的方法更加稳定全面。数据被多次划分，并且需要训练多个模型，最常用的是k折交叉验证"
   ]
  },
  {
   "cell_type": "markdown",
   "metadata": {},
   "source": [
    "# 5.1.1sklearn中的交叉验证"
   ]
  },
  {
   "cell_type": "markdown",
   "metadata": {},
   "source": [
    "sklearn是利用model_selection模块中的cross_val_score函数来实现交叉验证的。主要参数包含estimator，x，y，cv"
   ]
  },
  {
   "cell_type": "code",
   "execution_count": 5,
   "metadata": {},
   "outputs": [
    {
     "name": "stdout",
     "output_type": "stream",
     "text": [
      "[1.         0.96666667 0.93333333 0.9        1.        ]\n",
      "0.9600000000000002\n"
     ]
    }
   ],
   "source": [
    "import warnings;warnings.simplefilter('ignore')\n",
    "from sklearn.model_selection import cross_val_score\n",
    "from sklearn.datasets import load_iris\n",
    "from sklearn.linear_model import LogisticRegression\n",
    "iris=load_iris()\n",
    "lr=LogisticRegression()\n",
    "scores=cross_val_score(lr,iris.data,iris.target,cv=5)\n",
    "print(scores)\n",
    "print(scores.mean())"
   ]
  },
  {
   "cell_type": "markdown",
   "metadata": {},
   "source": [
    "我们可以发现，折与折之间的精度有较大的变化，范围从100%-90%，这可能意味着模型强烈依赖于将某个折用于训练，也有可能是因为数据集的数据量太小"
   ]
  },
  {
   "cell_type": "markdown",
   "metadata": {},
   "source": [
    "# 5.1.2交叉验证的优点"
   ]
  },
  {
   "cell_type": "markdown",
   "metadata": {},
   "source": [
    "# 5.1.3分层k折交叉验证和其他策略"
   ]
  },
  {
   "cell_type": "code",
   "execution_count": 27,
   "metadata": {},
   "outputs": [
    {
     "data": {
      "text/plain": [
       "array([0, 0, 0, 0, 0, 0, 0, 0, 0, 0, 0, 0, 0, 0, 0, 0, 0, 0, 0, 0, 0, 0,\n",
       "       0, 0, 0, 0, 0, 0, 0, 0, 0, 0, 0, 0, 0, 0, 0, 0, 0, 0, 0, 0, 0, 0,\n",
       "       0, 0, 0, 0, 0, 0, 1, 1, 1, 1, 1, 1, 1, 1, 1, 1, 1, 1, 1, 1, 1, 1,\n",
       "       1, 1, 1, 1, 1, 1, 1, 1, 1, 1, 1, 1, 1, 1, 1, 1, 1, 1, 1, 1, 1, 1,\n",
       "       1, 1, 1, 1, 1, 1, 1, 1, 1, 1, 1, 1, 2, 2, 2, 2, 2, 2, 2, 2, 2, 2,\n",
       "       2, 2, 2, 2, 2, 2, 2, 2, 2, 2, 2, 2, 2, 2, 2, 2, 2, 2, 2, 2, 2, 2,\n",
       "       2, 2, 2, 2, 2, 2, 2, 2, 2, 2, 2, 2, 2, 2, 2, 2, 2, 2])"
      ]
     },
     "execution_count": 27,
     "metadata": {},
     "output_type": "execute_result"
    }
   ],
   "source": [
    "iris.target"
   ]
  },
  {
   "cell_type": "markdown",
   "metadata": {},
   "source": [
    "如果在这一数据集上进行3折交叉验证，3折交叉验证精度为0，由于简单的k折策略在这里失效了，所以sklearn在分类问题不使用这种策略，而是使用分层k折交叉验证，使得每个折中类别之间的比例与整个数据集中的比例相同"
   ]
  },
  {
   "cell_type": "markdown",
   "metadata": {},
   "source": [
    "使用分层k折交叉验证而不是k折交叉验证来评估一个分类器，通常是一个好主意。\n",
    "对于回归问题，sklearn默认使用标准k折交叉验证"
   ]
  },
  {
   "cell_type": "markdown",
   "metadata": {},
   "source": [
    "5.1.3.1对交叉验证的更多控制"
   ]
  },
  {
   "cell_type": "markdown",
   "metadata": {},
   "source": [
    "回归问题默认的k折交叉验证与分类问题的分层k折交叉验证的表现都很好，但有些情况下你可能希望使用不同的策略。\n",
    "比如我们想要在分类数据集上使用标准k折交叉验证，我们就要导入KFold分离器类"
   ]
  },
  {
   "cell_type": "code",
   "execution_count": 5,
   "metadata": {},
   "outputs": [
    {
     "data": {
      "text/plain": [
       "array([1.        , 0.93333333, 0.43333333, 0.96666667, 0.43333333])"
      ]
     },
     "execution_count": 5,
     "metadata": {},
     "output_type": "execute_result"
    }
   ],
   "source": [
    "from sklearn.model_selection import KFold\n",
    "kfold=KFold(n_splits=5)\n",
    "scores=cross_val_score(lr,iris.data,iris.target,cv=kfold)\n",
    "scores"
   ]
  },
  {
   "cell_type": "code",
   "execution_count": 6,
   "metadata": {},
   "outputs": [
    {
     "data": {
      "text/plain": [
       "array([0., 0., 0.])"
      ]
     },
     "execution_count": 6,
     "metadata": {},
     "output_type": "execute_result"
    }
   ],
   "source": [
    "kfold=KFold(n_splits=3)\n",
    "scores=cross_val_score(lr,iris.data,iris.target,cv=kfold)\n",
    "scores"
   ]
  },
  {
   "cell_type": "markdown",
   "metadata": {},
   "source": [
    "在iris数据集上使用3折交叉验证（不分层）确实是一个非常糟糕的主意。\n",
    "可以通过KFold的shuffle参数来实现打乱来代替分层，还需要固定random_state以获得可以重复的打乱结果。"
   ]
  },
  {
   "cell_type": "code",
   "execution_count": 14,
   "metadata": {},
   "outputs": [
    {
     "data": {
      "text/plain": [
       "array([0.9 , 0.96, 0.96])"
      ]
     },
     "execution_count": 14,
     "metadata": {},
     "output_type": "execute_result"
    }
   ],
   "source": [
    "kfold=KFold(n_splits=3,shuffle=True,random_state=0)\n",
    "scores=cross_val_score(lr,iris.data,iris.target,cv=kfold)\n",
    "scores"
   ]
  },
  {
   "cell_type": "markdown",
   "metadata": {},
   "source": [
    "5.1.3.2留一法交叉验证"
   ]
  },
  {
   "cell_type": "markdown",
   "metadata": {},
   "source": [
    "每折只包含单个样本的k折交叉验证，对于每次划分，选择单个数据点作为测试集，对于大型数据集太耗时。"
   ]
  },
  {
   "cell_type": "code",
   "execution_count": 6,
   "metadata": {},
   "outputs": [
    {
     "data": {
      "text/plain": [
       "array([1., 1., 1., 1., 1., 1., 1., 1., 1., 1., 1., 1., 1., 1., 1., 1., 1.,\n",
       "       1., 1., 1., 1., 1., 1., 1., 1., 1., 1., 1., 1., 1., 1., 1., 1., 1.,\n",
       "       1., 1., 1., 1., 1., 1., 1., 1., 1., 1., 1., 1., 1., 1., 1., 1., 1.,\n",
       "       1., 1., 1., 1., 1., 1., 1., 1., 1., 1., 1., 1., 1., 1., 1., 0., 1.,\n",
       "       1., 1., 0., 1., 1., 1., 1., 1., 1., 1., 1., 1., 1., 1., 1., 0., 0.,\n",
       "       0., 1., 1., 1., 1., 1., 1., 1., 1., 1., 1., 1., 1., 1., 1., 1., 1.,\n",
       "       1., 1., 1., 1., 1., 1., 1., 1., 1., 1., 1., 1., 1., 1., 1., 1., 1.,\n",
       "       1., 1., 1., 1., 1., 1., 1., 1., 1., 1., 0., 1., 1., 1., 0., 1., 1.,\n",
       "       1., 1., 1., 1., 1., 1., 1., 1., 1., 1., 1., 1., 1., 1.])"
      ]
     },
     "execution_count": 6,
     "metadata": {},
     "output_type": "execute_result"
    }
   ],
   "source": [
    "from sklearn.model_selection import LeaveOneOut\n",
    "loo=LeaveOneOut()\n",
    "scores=cross_val_score(lr,iris.data,iris.target,cv=loo)\n",
    "scores"
   ]
  },
  {
   "cell_type": "code",
   "execution_count": 7,
   "metadata": {},
   "outputs": [
    {
     "data": {
      "text/plain": [
       "0.9533333333333334"
      ]
     },
     "execution_count": 7,
     "metadata": {},
     "output_type": "execute_result"
    }
   ],
   "source": [
    "scores.mean()"
   ]
  },
  {
   "cell_type": "markdown",
   "metadata": {},
   "source": [
    "5.1.3.3打乱划分交叉验证"
   ]
  },
  {
   "cell_type": "markdown",
   "metadata": {},
   "source": [
    "每次划分为训练集取样train_size个点，为测试集取样test_size个（不相交）点，将这一方法重复n_iter次\n"
   ]
  },
  {
   "cell_type": "code",
   "execution_count": 8,
   "metadata": {},
   "outputs": [
    {
     "data": {
      "text/plain": [
       "array([0.84      , 0.93333333, 0.90666667, 1.        , 0.90666667,\n",
       "       0.93333333, 0.94666667, 1.        , 0.90666667, 0.88      ])"
      ]
     },
     "execution_count": 8,
     "metadata": {},
     "output_type": "execute_result"
    }
   ],
   "source": [
    "from sklearn.model_selection import ShuffleSplit\n",
    "ss=ShuffleSplit(n_splits=10, random_state=0, test_size=0.5, train_size=0.5)\n",
    "scores=cross_val_score(lr,iris.data,iris.target,cv=ss)\n",
    "scores"
   ]
  },
  {
   "cell_type": "markdown",
   "metadata": {},
   "source": [
    "能独立控制迭代次数，还允许使用部分数据，在大型数据上很有帮助，shufflesplit还有一种分层形式，stratifiedshufflesplit，它可以为分类任务提供更可靠的结果。"
   ]
  },
  {
   "cell_type": "markdown",
   "metadata": {},
   "source": [
    "5.1.3.4分组交叉验证"
   ]
  },
  {
   "cell_type": "markdown",
   "metadata": {},
   "source": [
    "对于分类其而言，检测训练集中出现过的人脸感情比全新的人脸要容易得多。因此为了准确评估模型对新的人脸的泛化能力，我们必须确保训练集和测试集中包含不同人的图像。\n",
    "为了实现这一点，我们可以使用GroupKFold,它以group数组作为参数，可以用来说明照片中对应的是那个人"
   ]
  },
  {
   "cell_type": "markdown",
   "metadata": {},
   "source": [
    "数据分组的这种例子常见于医疗应用，你可能拥有来自同一名病人的多个样本，但想要将其泛化到新的病人。同样在语音识别领域，你的数据集中可能包含同一名发言人的多条记录，但你希望能识别新的发言人的讲话。"
   ]
  },
  {
   "cell_type": "markdown",
   "metadata": {},
   "source": [
    "# 5.2网格搜索"
   ]
  },
  {
   "cell_type": "markdown",
   "metadata": {},
   "source": [
    "学习如何通过调参来提升模型的泛化能力，sklearn中有一些标准方法可以帮你完成，最常用的方法就是网格搜索(grid search)"
   ]
  },
  {
   "cell_type": "markdown",
   "metadata": {},
   "source": [
    "# 5.2.1简单网格搜索"
   ]
  },
  {
   "cell_type": "markdown",
   "metadata": {},
   "source": [
    "我们可以实现一个简单的网格搜索，在2个参数上使用for循环，对每种参数组合分别训练并评估一个分类器。"
   ]
  },
  {
   "cell_type": "code",
   "execution_count": 18,
   "metadata": {},
   "outputs": [
    {
     "name": "stdout",
     "output_type": "stream",
     "text": [
      "0.9736842105263158\n",
      "{'c': 100, 'gamma': 0.001}\n"
     ]
    }
   ],
   "source": [
    "from sklearn.svm import SVC\n",
    "from sklearn.model_selection import train_test_split\n",
    "x_train, x_test, y_train, y_test = train_test_split(iris.data, iris.target, test_size=0.25, random_state=0)\n",
    "best_score=0\n",
    "for gamma in [0.001,0.01,0.1,1,10,100]:\n",
    "    for c in [0.001,0.01,0.1,1,10,100]:\n",
    "        svm=SVC(gamma=gamma,C=c)\n",
    "        svm.fit(x_train,y_train)\n",
    "        score=svm.score(x_test,y_test)\n",
    "        if score>best_score:\n",
    "            best_score=score\n",
    "            best_parameter={'c':c,'gamma':gamma}\n",
    "        else:\n",
    "            pass\n",
    "print(best_score)\n",
    "print(best_parameter)"
   ]
  },
  {
   "cell_type": "markdown",
   "metadata": {},
   "source": [
    "# 5.2.2参数过拟合的风险与验证集"
   ]
  },
  {
   "cell_type": "markdown",
   "metadata": {},
   "source": [
    "由于我们使用测试数据进行调参，所以不能再用它来评估模型的好坏。我们需要一个独立的数据集来进行评估，一个在创建模型时没有用到的数据集"
   ]
  },
  {
   "cell_type": "markdown",
   "metadata": {},
   "source": [
    "我们需要重新划分数据，我们得到3个数据集：用于构建模型的训练集，用于选择模型参数的验证集（开发集），用于评估所选参数性能的测试集。利用验证集选定最佳参数后，我们可以利用我们找到的参数设置重新构建一个模型，但是要同时在训练数据和验证数据上进行训练。"
   ]
  },
  {
   "cell_type": "code",
   "execution_count": 19,
   "metadata": {},
   "outputs": [
    {
     "name": "stdout",
     "output_type": "stream",
     "text": [
      "0.9642857142857143\n",
      "{'c': 10, 'gamma': 0.001}\n"
     ]
    }
   ],
   "source": [
    "from sklearn.svm import SVC\n",
    "from sklearn.datasets import load_iris\n",
    "iris=load_iris()\n",
    "from sklearn.model_selection import train_test_split\n",
    "#将数据分为训练+验证集和测试集\n",
    "x_trainval, x_test, y_trainval, y_test = train_test_split(iris.data, iris.target, random_state=0)\n",
    "#将数据分为训练和验证集\n",
    "x_train,x_valid,y_train,y_valid= train_test_split(x_trainval, y_trainval, random_state=1)\n",
    "best_score=0\n",
    "for gamma in [0.001,0.01,0.1,1,10,100]:\n",
    "    for c in [0.001,0.01,0.1,1,10,100]:\n",
    "        svm=SVC(gamma=gamma,C=c)\n",
    "        svm.fit(x_train,y_train)\n",
    "        score=svm.score(x_valid,y_valid)\n",
    "        if score>best_score:\n",
    "            best_score=score\n",
    "            best_parameter={'c':c,'gamma':gamma}\n",
    "        else:\n",
    "            pass\n",
    "print(best_score)\n",
    "print(best_parameter)"
   ]
  },
  {
   "cell_type": "code",
   "execution_count": 20,
   "metadata": {},
   "outputs": [
    {
     "data": {
      "text/plain": [
       "0.9210526315789473"
      ]
     },
     "execution_count": 20,
     "metadata": {},
     "output_type": "execute_result"
    }
   ],
   "source": [
    "#在训练+验证集上重新构建一个模型，并在测试集上进行评估\n",
    "svm=SVC(gamma=0.001,C=10)\n",
    "svm.fit(x_trainval,y_trainval)\n",
    "score=svm.score(x_test,y_test)\n",
    "score"
   ]
  },
  {
   "cell_type": "markdown",
   "metadata": {},
   "source": [
    "任何根据测试集精度所做的选择都会将测试集信息泄露到模型中，因此保留一个单独的测试集很有必要"
   ]
  },
  {
   "cell_type": "markdown",
   "metadata": {},
   "source": [
    "# 5.2.3带交叉验证的网格搜索"
   ]
  },
  {
   "cell_type": "code",
   "execution_count": 35,
   "metadata": {},
   "outputs": [
    {
     "name": "stdout",
     "output_type": "stream",
     "text": [
      "0.9726896292113683\n",
      "{'c': 100, 'gamma': 0.01}\n"
     ]
    }
   ],
   "source": [
    "best_score=0\n",
    "for gamma in [0.001,0.01,0.1,1,10,100]:\n",
    "    for c in [0.001,0.01,0.1,1,10,100]:\n",
    "        svm=SVC(gamma=gamma,C=c)\n",
    "        \n",
    "        scores=cross_val_score(svm,x_trainval,y_trainval,cv=5)\n",
    "        score=scores.mean()\n",
    "        if score>best_score:\n",
    "            best_score=score\n",
    "            best_parameter={'c':c,'gamma':gamma}\n",
    "print(best_score)\n",
    "print(best_parameter)"
   ]
  },
  {
   "cell_type": "code",
   "execution_count": 36,
   "metadata": {},
   "outputs": [
    {
     "data": {
      "text/plain": [
       "0.9736842105263158"
      ]
     },
     "execution_count": 36,
     "metadata": {},
     "output_type": "execute_result"
    }
   ],
   "source": [
    "svm=SVC(gamma=0.01,C=100)\n",
    "svm.fit(x_trainval,y_trainval)\n",
    "svm.score(x_test,y_test)"
   ]
  },
  {
   "cell_type": "markdown",
   "metadata": {},
   "source": [
    "为了得到对泛化性能更好的估计，我们可以使用交叉验证来评估每种参数组合的性能，而不是仅将数据单次划分为训练集与验证集"
   ]
  },
  {
   "cell_type": "markdown",
   "metadata": {},
   "source": [
    "由于带交叉验证的网格搜索是一种常见的调参方法，因此sklearn提供了GridSearchCV类"
   ]
  },
  {
   "cell_type": "code",
   "execution_count": 4,
   "metadata": {},
   "outputs": [
    {
     "name": "stderr",
     "output_type": "stream",
     "text": [
      "C:\\ProgramData\\Anaconda3\\lib\\site-packages\\sklearn\\model_selection\\_search.py:813: DeprecationWarning: The default of the `iid` parameter will change from True to False in version 0.22 and will be removed in 0.24. This will change numeric results when test-set sizes are unequal.\n",
      "  DeprecationWarning)\n"
     ]
    },
    {
     "data": {
      "text/plain": [
       "GridSearchCV(cv=5, error_score='raise-deprecating',\n",
       "             estimator=SVC(C=1.0, cache_size=200, class_weight=None, coef0=0.0,\n",
       "                           decision_function_shape='ovr', degree=3,\n",
       "                           gamma='auto_deprecated', kernel='rbf', max_iter=-1,\n",
       "                           probability=False, random_state=None, shrinking=True,\n",
       "                           tol=0.001, verbose=False),\n",
       "             iid='warn', n_jobs=None,\n",
       "             param_grid={'C': [0.001, 0.01, 0.1, 1, 10, 100],\n",
       "                         'gamma': [0.001, 0.01, 0.1, 1, 10, 100]},\n",
       "             pre_dispatch='2*n_jobs', refit=True, return_train_score=False,\n",
       "             scoring=None, verbose=0)"
      ]
     },
     "execution_count": 4,
     "metadata": {},
     "output_type": "execute_result"
    }
   ],
   "source": [
    "param_grid={'C':[0.001,0.01,0.1,1,10,100],'gamma':[0.001,0.01,0.1,1,10,100]}\n",
    "from sklearn.model_selection import GridSearchCV\n",
    "from sklearn.model_selection import train_test_split\n",
    "from sklearn.datasets import load_iris\n",
    "iris = load_iris()\n",
    "from sklearn.svm import SVC\n",
    "grid_search=GridSearchCV(SVC(),param_grid,cv=5)\n",
    "x_trainval, x_test, y_trainval, y_test = train_test_split(iris.data, iris.target, random_state=0)\n",
    "grid_search.fit(x_trainval,y_trainval)"
   ]
  },
  {
   "cell_type": "markdown",
   "metadata": {},
   "source": [
    "为了评估找到的最佳参数的泛化能力，我们可以在测试集上调用score"
   ]
  },
  {
   "cell_type": "code",
   "execution_count": 8,
   "metadata": {},
   "outputs": [
    {
     "data": {
      "text/plain": [
       "0.9736842105263158"
      ]
     },
     "execution_count": 8,
     "metadata": {},
     "output_type": "execute_result"
    }
   ],
   "source": [
    "grid_search.score(x_test,y_test)"
   ]
  },
  {
   "cell_type": "markdown",
   "metadata": {},
   "source": [
    "利用交叉验证选择参数，我们实际上找到了一个测试集上精度为97%的模型。重要的是，我们没有使用测试集来选择参数。我们找到的参数保存在best_params_中，而交叉验证的最佳精度保存在best_scores中，best_estimator_可以访问最佳模参数对应的模型"
   ]
  },
  {
   "cell_type": "code",
   "execution_count": 5,
   "metadata": {},
   "outputs": [
    {
     "data": {
      "text/plain": [
       "0.9732142857142857"
      ]
     },
     "execution_count": 5,
     "metadata": {},
     "output_type": "execute_result"
    }
   ],
   "source": [
    "grid_search.best_score_"
   ]
  },
  {
   "cell_type": "code",
   "execution_count": 6,
   "metadata": {},
   "outputs": [
    {
     "data": {
      "text/plain": [
       "{'C': 100, 'gamma': 0.01}"
      ]
     },
     "execution_count": 6,
     "metadata": {},
     "output_type": "execute_result"
    }
   ],
   "source": [
    "grid_search.best_params_"
   ]
  },
  {
   "cell_type": "code",
   "execution_count": 7,
   "metadata": {},
   "outputs": [
    {
     "data": {
      "text/plain": [
       "SVC(C=100, cache_size=200, class_weight=None, coef0=0.0,\n",
       "    decision_function_shape='ovr', degree=3, gamma=0.01, kernel='rbf',\n",
       "    max_iter=-1, probability=False, random_state=None, shrinking=True,\n",
       "    tol=0.001, verbose=False)"
      ]
     },
     "execution_count": 7,
     "metadata": {},
     "output_type": "execute_result"
    }
   ],
   "source": [
    "grid_search.best_estimator_"
   ]
  },
  {
   "cell_type": "markdown",
   "metadata": {},
   "source": [
    "# 5.2.3.1分析交叉验证结果"
   ]
  },
  {
   "cell_type": "code",
   "execution_count": 9,
   "metadata": {},
   "outputs": [
    {
     "data": {
      "text/html": [
       "<div>\n",
       "<style scoped>\n",
       "    .dataframe tbody tr th:only-of-type {\n",
       "        vertical-align: middle;\n",
       "    }\n",
       "\n",
       "    .dataframe tbody tr th {\n",
       "        vertical-align: top;\n",
       "    }\n",
       "\n",
       "    .dataframe thead th {\n",
       "        text-align: right;\n",
       "    }\n",
       "</style>\n",
       "<table border=\"1\" class=\"dataframe\">\n",
       "  <thead>\n",
       "    <tr style=\"text-align: right;\">\n",
       "      <th></th>\n",
       "      <th>mean_fit_time</th>\n",
       "      <th>std_fit_time</th>\n",
       "      <th>mean_score_time</th>\n",
       "      <th>std_score_time</th>\n",
       "      <th>param_C</th>\n",
       "      <th>param_gamma</th>\n",
       "      <th>params</th>\n",
       "      <th>split0_test_score</th>\n",
       "      <th>split1_test_score</th>\n",
       "      <th>split2_test_score</th>\n",
       "      <th>split3_test_score</th>\n",
       "      <th>split4_test_score</th>\n",
       "      <th>mean_test_score</th>\n",
       "      <th>std_test_score</th>\n",
       "      <th>rank_test_score</th>\n",
       "    </tr>\n",
       "  </thead>\n",
       "  <tbody>\n",
       "    <tr>\n",
       "      <th>0</th>\n",
       "      <td>0.0008</td>\n",
       "      <td>4.000664e-04</td>\n",
       "      <td>0.0006</td>\n",
       "      <td>4.899792e-04</td>\n",
       "      <td>0.001</td>\n",
       "      <td>0.001</td>\n",
       "      <td>{'C': 0.001, 'gamma': 0.001}</td>\n",
       "      <td>0.375000</td>\n",
       "      <td>0.347826</td>\n",
       "      <td>0.363636</td>\n",
       "      <td>0.363636</td>\n",
       "      <td>0.380952</td>\n",
       "      <td>0.366071</td>\n",
       "      <td>0.011371</td>\n",
       "      <td>22</td>\n",
       "    </tr>\n",
       "    <tr>\n",
       "      <th>1</th>\n",
       "      <td>0.0008</td>\n",
       "      <td>4.001141e-04</td>\n",
       "      <td>0.0002</td>\n",
       "      <td>4.000664e-04</td>\n",
       "      <td>0.001</td>\n",
       "      <td>0.01</td>\n",
       "      <td>{'C': 0.001, 'gamma': 0.01}</td>\n",
       "      <td>0.375000</td>\n",
       "      <td>0.347826</td>\n",
       "      <td>0.363636</td>\n",
       "      <td>0.363636</td>\n",
       "      <td>0.380952</td>\n",
       "      <td>0.366071</td>\n",
       "      <td>0.011371</td>\n",
       "      <td>22</td>\n",
       "    </tr>\n",
       "    <tr>\n",
       "      <th>2</th>\n",
       "      <td>0.0006</td>\n",
       "      <td>4.899792e-04</td>\n",
       "      <td>0.0004</td>\n",
       "      <td>4.900376e-04</td>\n",
       "      <td>0.001</td>\n",
       "      <td>0.1</td>\n",
       "      <td>{'C': 0.001, 'gamma': 0.1}</td>\n",
       "      <td>0.375000</td>\n",
       "      <td>0.347826</td>\n",
       "      <td>0.363636</td>\n",
       "      <td>0.363636</td>\n",
       "      <td>0.380952</td>\n",
       "      <td>0.366071</td>\n",
       "      <td>0.011371</td>\n",
       "      <td>22</td>\n",
       "    </tr>\n",
       "    <tr>\n",
       "      <th>3</th>\n",
       "      <td>0.0008</td>\n",
       "      <td>4.000664e-04</td>\n",
       "      <td>0.0002</td>\n",
       "      <td>4.000664e-04</td>\n",
       "      <td>0.001</td>\n",
       "      <td>1</td>\n",
       "      <td>{'C': 0.001, 'gamma': 1}</td>\n",
       "      <td>0.375000</td>\n",
       "      <td>0.347826</td>\n",
       "      <td>0.363636</td>\n",
       "      <td>0.363636</td>\n",
       "      <td>0.380952</td>\n",
       "      <td>0.366071</td>\n",
       "      <td>0.011371</td>\n",
       "      <td>22</td>\n",
       "    </tr>\n",
       "    <tr>\n",
       "      <th>4</th>\n",
       "      <td>0.0010</td>\n",
       "      <td>0.000000e+00</td>\n",
       "      <td>0.0004</td>\n",
       "      <td>4.899792e-04</td>\n",
       "      <td>0.001</td>\n",
       "      <td>10</td>\n",
       "      <td>{'C': 0.001, 'gamma': 10}</td>\n",
       "      <td>0.375000</td>\n",
       "      <td>0.347826</td>\n",
       "      <td>0.363636</td>\n",
       "      <td>0.363636</td>\n",
       "      <td>0.380952</td>\n",
       "      <td>0.366071</td>\n",
       "      <td>0.011371</td>\n",
       "      <td>22</td>\n",
       "    </tr>\n",
       "    <tr>\n",
       "      <th>5</th>\n",
       "      <td>0.0012</td>\n",
       "      <td>4.000187e-04</td>\n",
       "      <td>0.0010</td>\n",
       "      <td>9.536743e-08</td>\n",
       "      <td>0.001</td>\n",
       "      <td>100</td>\n",
       "      <td>{'C': 0.001, 'gamma': 100}</td>\n",
       "      <td>0.375000</td>\n",
       "      <td>0.347826</td>\n",
       "      <td>0.363636</td>\n",
       "      <td>0.363636</td>\n",
       "      <td>0.380952</td>\n",
       "      <td>0.366071</td>\n",
       "      <td>0.011371</td>\n",
       "      <td>22</td>\n",
       "    </tr>\n",
       "    <tr>\n",
       "      <th>6</th>\n",
       "      <td>0.0008</td>\n",
       "      <td>4.000664e-04</td>\n",
       "      <td>0.0006</td>\n",
       "      <td>4.900182e-04</td>\n",
       "      <td>0.01</td>\n",
       "      <td>0.001</td>\n",
       "      <td>{'C': 0.01, 'gamma': 0.001}</td>\n",
       "      <td>0.375000</td>\n",
       "      <td>0.347826</td>\n",
       "      <td>0.363636</td>\n",
       "      <td>0.363636</td>\n",
       "      <td>0.380952</td>\n",
       "      <td>0.366071</td>\n",
       "      <td>0.011371</td>\n",
       "      <td>22</td>\n",
       "    </tr>\n",
       "    <tr>\n",
       "      <th>7</th>\n",
       "      <td>0.0010</td>\n",
       "      <td>0.000000e+00</td>\n",
       "      <td>0.0000</td>\n",
       "      <td>0.000000e+00</td>\n",
       "      <td>0.01</td>\n",
       "      <td>0.01</td>\n",
       "      <td>{'C': 0.01, 'gamma': 0.01}</td>\n",
       "      <td>0.375000</td>\n",
       "      <td>0.347826</td>\n",
       "      <td>0.363636</td>\n",
       "      <td>0.363636</td>\n",
       "      <td>0.380952</td>\n",
       "      <td>0.366071</td>\n",
       "      <td>0.011371</td>\n",
       "      <td>22</td>\n",
       "    </tr>\n",
       "    <tr>\n",
       "      <th>8</th>\n",
       "      <td>0.0008</td>\n",
       "      <td>4.000902e-04</td>\n",
       "      <td>0.0002</td>\n",
       "      <td>4.000664e-04</td>\n",
       "      <td>0.01</td>\n",
       "      <td>0.1</td>\n",
       "      <td>{'C': 0.01, 'gamma': 0.1}</td>\n",
       "      <td>0.375000</td>\n",
       "      <td>0.347826</td>\n",
       "      <td>0.363636</td>\n",
       "      <td>0.363636</td>\n",
       "      <td>0.380952</td>\n",
       "      <td>0.366071</td>\n",
       "      <td>0.011371</td>\n",
       "      <td>22</td>\n",
       "    </tr>\n",
       "    <tr>\n",
       "      <th>9</th>\n",
       "      <td>0.0006</td>\n",
       "      <td>4.899792e-04</td>\n",
       "      <td>0.0002</td>\n",
       "      <td>4.000664e-04</td>\n",
       "      <td>0.01</td>\n",
       "      <td>1</td>\n",
       "      <td>{'C': 0.01, 'gamma': 1}</td>\n",
       "      <td>0.375000</td>\n",
       "      <td>0.347826</td>\n",
       "      <td>0.363636</td>\n",
       "      <td>0.363636</td>\n",
       "      <td>0.380952</td>\n",
       "      <td>0.366071</td>\n",
       "      <td>0.011371</td>\n",
       "      <td>22</td>\n",
       "    </tr>\n",
       "    <tr>\n",
       "      <th>10</th>\n",
       "      <td>0.0010</td>\n",
       "      <td>9.536743e-08</td>\n",
       "      <td>0.0002</td>\n",
       "      <td>4.000664e-04</td>\n",
       "      <td>0.01</td>\n",
       "      <td>10</td>\n",
       "      <td>{'C': 0.01, 'gamma': 10}</td>\n",
       "      <td>0.375000</td>\n",
       "      <td>0.347826</td>\n",
       "      <td>0.363636</td>\n",
       "      <td>0.363636</td>\n",
       "      <td>0.380952</td>\n",
       "      <td>0.366071</td>\n",
       "      <td>0.011371</td>\n",
       "      <td>22</td>\n",
       "    </tr>\n",
       "    <tr>\n",
       "      <th>11</th>\n",
       "      <td>0.0018</td>\n",
       "      <td>4.000902e-04</td>\n",
       "      <td>0.0000</td>\n",
       "      <td>0.000000e+00</td>\n",
       "      <td>0.01</td>\n",
       "      <td>100</td>\n",
       "      <td>{'C': 0.01, 'gamma': 100}</td>\n",
       "      <td>0.375000</td>\n",
       "      <td>0.347826</td>\n",
       "      <td>0.363636</td>\n",
       "      <td>0.363636</td>\n",
       "      <td>0.380952</td>\n",
       "      <td>0.366071</td>\n",
       "      <td>0.011371</td>\n",
       "      <td>22</td>\n",
       "    </tr>\n",
       "    <tr>\n",
       "      <th>12</th>\n",
       "      <td>0.0004</td>\n",
       "      <td>4.899792e-04</td>\n",
       "      <td>0.0004</td>\n",
       "      <td>4.899792e-04</td>\n",
       "      <td>0.1</td>\n",
       "      <td>0.001</td>\n",
       "      <td>{'C': 0.1, 'gamma': 0.001}</td>\n",
       "      <td>0.375000</td>\n",
       "      <td>0.347826</td>\n",
       "      <td>0.363636</td>\n",
       "      <td>0.363636</td>\n",
       "      <td>0.380952</td>\n",
       "      <td>0.366071</td>\n",
       "      <td>0.011371</td>\n",
       "      <td>22</td>\n",
       "    </tr>\n",
       "    <tr>\n",
       "      <th>13</th>\n",
       "      <td>0.0006</td>\n",
       "      <td>4.900182e-04</td>\n",
       "      <td>0.0002</td>\n",
       "      <td>4.000664e-04</td>\n",
       "      <td>0.1</td>\n",
       "      <td>0.01</td>\n",
       "      <td>{'C': 0.1, 'gamma': 0.01}</td>\n",
       "      <td>0.708333</td>\n",
       "      <td>0.695652</td>\n",
       "      <td>0.681818</td>\n",
       "      <td>0.681818</td>\n",
       "      <td>0.714286</td>\n",
       "      <td>0.696429</td>\n",
       "      <td>0.013196</td>\n",
       "      <td>17</td>\n",
       "    </tr>\n",
       "    <tr>\n",
       "      <th>14</th>\n",
       "      <td>0.0008</td>\n",
       "      <td>4.000902e-04</td>\n",
       "      <td>0.0002</td>\n",
       "      <td>4.000664e-04</td>\n",
       "      <td>0.1</td>\n",
       "      <td>0.1</td>\n",
       "      <td>{'C': 0.1, 'gamma': 0.1}</td>\n",
       "      <td>0.916667</td>\n",
       "      <td>0.913043</td>\n",
       "      <td>1.000000</td>\n",
       "      <td>0.863636</td>\n",
       "      <td>0.904762</td>\n",
       "      <td>0.919643</td>\n",
       "      <td>0.044010</td>\n",
       "      <td>13</td>\n",
       "    </tr>\n",
       "    <tr>\n",
       "      <th>15</th>\n",
       "      <td>0.0004</td>\n",
       "      <td>4.900376e-04</td>\n",
       "      <td>0.0002</td>\n",
       "      <td>4.000664e-04</td>\n",
       "      <td>0.1</td>\n",
       "      <td>1</td>\n",
       "      <td>{'C': 0.1, 'gamma': 1}</td>\n",
       "      <td>1.000000</td>\n",
       "      <td>0.913043</td>\n",
       "      <td>1.000000</td>\n",
       "      <td>0.909091</td>\n",
       "      <td>0.952381</td>\n",
       "      <td>0.955357</td>\n",
       "      <td>0.040104</td>\n",
       "      <td>6</td>\n",
       "    </tr>\n",
       "    <tr>\n",
       "      <th>16</th>\n",
       "      <td>0.0010</td>\n",
       "      <td>0.000000e+00</td>\n",
       "      <td>0.0002</td>\n",
       "      <td>4.000664e-04</td>\n",
       "      <td>0.1</td>\n",
       "      <td>10</td>\n",
       "      <td>{'C': 0.1, 'gamma': 10}</td>\n",
       "      <td>0.375000</td>\n",
       "      <td>0.347826</td>\n",
       "      <td>0.363636</td>\n",
       "      <td>0.363636</td>\n",
       "      <td>0.380952</td>\n",
       "      <td>0.366071</td>\n",
       "      <td>0.011371</td>\n",
       "      <td>22</td>\n",
       "    </tr>\n",
       "    <tr>\n",
       "      <th>17</th>\n",
       "      <td>0.0016</td>\n",
       "      <td>4.900182e-04</td>\n",
       "      <td>0.0000</td>\n",
       "      <td>0.000000e+00</td>\n",
       "      <td>0.1</td>\n",
       "      <td>100</td>\n",
       "      <td>{'C': 0.1, 'gamma': 100}</td>\n",
       "      <td>0.375000</td>\n",
       "      <td>0.347826</td>\n",
       "      <td>0.363636</td>\n",
       "      <td>0.363636</td>\n",
       "      <td>0.380952</td>\n",
       "      <td>0.366071</td>\n",
       "      <td>0.011371</td>\n",
       "      <td>22</td>\n",
       "    </tr>\n",
       "    <tr>\n",
       "      <th>18</th>\n",
       "      <td>0.0010</td>\n",
       "      <td>9.536743e-08</td>\n",
       "      <td>0.0000</td>\n",
       "      <td>0.000000e+00</td>\n",
       "      <td>1</td>\n",
       "      <td>0.001</td>\n",
       "      <td>{'C': 1, 'gamma': 0.001}</td>\n",
       "      <td>0.708333</td>\n",
       "      <td>0.695652</td>\n",
       "      <td>0.681818</td>\n",
       "      <td>0.681818</td>\n",
       "      <td>0.714286</td>\n",
       "      <td>0.696429</td>\n",
       "      <td>0.013196</td>\n",
       "      <td>17</td>\n",
       "    </tr>\n",
       "    <tr>\n",
       "      <th>19</th>\n",
       "      <td>0.0004</td>\n",
       "      <td>4.899792e-04</td>\n",
       "      <td>0.0002</td>\n",
       "      <td>4.000664e-04</td>\n",
       "      <td>1</td>\n",
       "      <td>0.01</td>\n",
       "      <td>{'C': 1, 'gamma': 0.01}</td>\n",
       "      <td>0.875000</td>\n",
       "      <td>0.913043</td>\n",
       "      <td>1.000000</td>\n",
       "      <td>0.909091</td>\n",
       "      <td>0.952381</td>\n",
       "      <td>0.928571</td>\n",
       "      <td>0.042983</td>\n",
       "      <td>11</td>\n",
       "    </tr>\n",
       "    <tr>\n",
       "      <th>20</th>\n",
       "      <td>0.0000</td>\n",
       "      <td>0.000000e+00</td>\n",
       "      <td>0.0008</td>\n",
       "      <td>4.000902e-04</td>\n",
       "      <td>1</td>\n",
       "      <td>0.1</td>\n",
       "      <td>{'C': 1, 'gamma': 0.1}</td>\n",
       "      <td>1.000000</td>\n",
       "      <td>0.956522</td>\n",
       "      <td>1.000000</td>\n",
       "      <td>0.909091</td>\n",
       "      <td>0.952381</td>\n",
       "      <td>0.964286</td>\n",
       "      <td>0.034077</td>\n",
       "      <td>2</td>\n",
       "    </tr>\n",
       "    <tr>\n",
       "      <th>21</th>\n",
       "      <td>0.0006</td>\n",
       "      <td>4.899792e-04</td>\n",
       "      <td>0.0004</td>\n",
       "      <td>4.899792e-04</td>\n",
       "      <td>1</td>\n",
       "      <td>1</td>\n",
       "      <td>{'C': 1, 'gamma': 1}</td>\n",
       "      <td>0.916667</td>\n",
       "      <td>0.956522</td>\n",
       "      <td>1.000000</td>\n",
       "      <td>0.909091</td>\n",
       "      <td>0.952381</td>\n",
       "      <td>0.946429</td>\n",
       "      <td>0.032480</td>\n",
       "      <td>8</td>\n",
       "    </tr>\n",
       "    <tr>\n",
       "      <th>22</th>\n",
       "      <td>0.0014</td>\n",
       "      <td>4.900960e-04</td>\n",
       "      <td>0.0002</td>\n",
       "      <td>4.001617e-04</td>\n",
       "      <td>1</td>\n",
       "      <td>10</td>\n",
       "      <td>{'C': 1, 'gamma': 10}</td>\n",
       "      <td>0.875000</td>\n",
       "      <td>0.956522</td>\n",
       "      <td>1.000000</td>\n",
       "      <td>0.818182</td>\n",
       "      <td>0.952381</td>\n",
       "      <td>0.919643</td>\n",
       "      <td>0.064791</td>\n",
       "      <td>13</td>\n",
       "    </tr>\n",
       "    <tr>\n",
       "      <th>23</th>\n",
       "      <td>0.0014</td>\n",
       "      <td>4.899792e-04</td>\n",
       "      <td>0.0004</td>\n",
       "      <td>4.900376e-04</td>\n",
       "      <td>1</td>\n",
       "      <td>100</td>\n",
       "      <td>{'C': 1, 'gamma': 100}</td>\n",
       "      <td>0.500000</td>\n",
       "      <td>0.434783</td>\n",
       "      <td>0.545455</td>\n",
       "      <td>0.500000</td>\n",
       "      <td>0.571429</td>\n",
       "      <td>0.508929</td>\n",
       "      <td>0.046435</td>\n",
       "      <td>21</td>\n",
       "    </tr>\n",
       "    <tr>\n",
       "      <th>24</th>\n",
       "      <td>0.0008</td>\n",
       "      <td>4.000664e-04</td>\n",
       "      <td>0.0002</td>\n",
       "      <td>4.000664e-04</td>\n",
       "      <td>10</td>\n",
       "      <td>0.001</td>\n",
       "      <td>{'C': 10, 'gamma': 0.001}</td>\n",
       "      <td>0.875000</td>\n",
       "      <td>0.913043</td>\n",
       "      <td>1.000000</td>\n",
       "      <td>0.909091</td>\n",
       "      <td>0.952381</td>\n",
       "      <td>0.928571</td>\n",
       "      <td>0.042983</td>\n",
       "      <td>11</td>\n",
       "    </tr>\n",
       "    <tr>\n",
       "      <th>25</th>\n",
       "      <td>0.0000</td>\n",
       "      <td>0.000000e+00</td>\n",
       "      <td>0.0000</td>\n",
       "      <td>0.000000e+00</td>\n",
       "      <td>10</td>\n",
       "      <td>0.01</td>\n",
       "      <td>{'C': 10, 'gamma': 0.01}</td>\n",
       "      <td>1.000000</td>\n",
       "      <td>0.956522</td>\n",
       "      <td>1.000000</td>\n",
       "      <td>0.909091</td>\n",
       "      <td>0.952381</td>\n",
       "      <td>0.964286</td>\n",
       "      <td>0.034077</td>\n",
       "      <td>2</td>\n",
       "    </tr>\n",
       "    <tr>\n",
       "      <th>26</th>\n",
       "      <td>0.0002</td>\n",
       "      <td>4.000664e-04</td>\n",
       "      <td>0.0000</td>\n",
       "      <td>0.000000e+00</td>\n",
       "      <td>10</td>\n",
       "      <td>0.1</td>\n",
       "      <td>{'C': 10, 'gamma': 0.1}</td>\n",
       "      <td>0.958333</td>\n",
       "      <td>0.956522</td>\n",
       "      <td>1.000000</td>\n",
       "      <td>0.954545</td>\n",
       "      <td>0.952381</td>\n",
       "      <td>0.964286</td>\n",
       "      <td>0.017769</td>\n",
       "      <td>2</td>\n",
       "    </tr>\n",
       "    <tr>\n",
       "      <th>27</th>\n",
       "      <td>0.0000</td>\n",
       "      <td>0.000000e+00</td>\n",
       "      <td>0.0004</td>\n",
       "      <td>4.899792e-04</td>\n",
       "      <td>10</td>\n",
       "      <td>1</td>\n",
       "      <td>{'C': 10, 'gamma': 1}</td>\n",
       "      <td>0.916667</td>\n",
       "      <td>0.956522</td>\n",
       "      <td>1.000000</td>\n",
       "      <td>0.863636</td>\n",
       "      <td>0.952381</td>\n",
       "      <td>0.937500</td>\n",
       "      <td>0.045253</td>\n",
       "      <td>10</td>\n",
       "    </tr>\n",
       "    <tr>\n",
       "      <th>28</th>\n",
       "      <td>0.0012</td>\n",
       "      <td>4.001617e-04</td>\n",
       "      <td>0.0002</td>\n",
       "      <td>4.000664e-04</td>\n",
       "      <td>10</td>\n",
       "      <td>10</td>\n",
       "      <td>{'C': 10, 'gamma': 10}</td>\n",
       "      <td>0.875000</td>\n",
       "      <td>0.956522</td>\n",
       "      <td>1.000000</td>\n",
       "      <td>0.818182</td>\n",
       "      <td>0.952381</td>\n",
       "      <td>0.919643</td>\n",
       "      <td>0.064791</td>\n",
       "      <td>13</td>\n",
       "    </tr>\n",
       "    <tr>\n",
       "      <th>29</th>\n",
       "      <td>0.0014</td>\n",
       "      <td>4.899792e-04</td>\n",
       "      <td>0.0006</td>\n",
       "      <td>4.900182e-04</td>\n",
       "      <td>10</td>\n",
       "      <td>100</td>\n",
       "      <td>{'C': 10, 'gamma': 100}</td>\n",
       "      <td>0.541667</td>\n",
       "      <td>0.521739</td>\n",
       "      <td>0.590909</td>\n",
       "      <td>0.590909</td>\n",
       "      <td>0.619048</td>\n",
       "      <td>0.571429</td>\n",
       "      <td>0.035652</td>\n",
       "      <td>19</td>\n",
       "    </tr>\n",
       "    <tr>\n",
       "      <th>30</th>\n",
       "      <td>0.0010</td>\n",
       "      <td>9.536743e-08</td>\n",
       "      <td>0.0000</td>\n",
       "      <td>0.000000e+00</td>\n",
       "      <td>100</td>\n",
       "      <td>0.001</td>\n",
       "      <td>{'C': 100, 'gamma': 0.001}</td>\n",
       "      <td>1.000000</td>\n",
       "      <td>0.956522</td>\n",
       "      <td>1.000000</td>\n",
       "      <td>0.909091</td>\n",
       "      <td>0.952381</td>\n",
       "      <td>0.964286</td>\n",
       "      <td>0.034077</td>\n",
       "      <td>2</td>\n",
       "    </tr>\n",
       "    <tr>\n",
       "      <th>31</th>\n",
       "      <td>0.0006</td>\n",
       "      <td>4.899792e-04</td>\n",
       "      <td>0.0000</td>\n",
       "      <td>0.000000e+00</td>\n",
       "      <td>100</td>\n",
       "      <td>0.01</td>\n",
       "      <td>{'C': 100, 'gamma': 0.01}</td>\n",
       "      <td>1.000000</td>\n",
       "      <td>0.956522</td>\n",
       "      <td>1.000000</td>\n",
       "      <td>0.954545</td>\n",
       "      <td>0.952381</td>\n",
       "      <td>0.973214</td>\n",
       "      <td>0.022400</td>\n",
       "      <td>1</td>\n",
       "    </tr>\n",
       "    <tr>\n",
       "      <th>32</th>\n",
       "      <td>0.0010</td>\n",
       "      <td>9.536743e-08</td>\n",
       "      <td>0.0000</td>\n",
       "      <td>0.000000e+00</td>\n",
       "      <td>100</td>\n",
       "      <td>0.1</td>\n",
       "      <td>{'C': 100, 'gamma': 0.1}</td>\n",
       "      <td>0.958333</td>\n",
       "      <td>1.000000</td>\n",
       "      <td>1.000000</td>\n",
       "      <td>0.863636</td>\n",
       "      <td>0.952381</td>\n",
       "      <td>0.955357</td>\n",
       "      <td>0.049566</td>\n",
       "      <td>6</td>\n",
       "    </tr>\n",
       "    <tr>\n",
       "      <th>33</th>\n",
       "      <td>0.0006</td>\n",
       "      <td>4.899792e-04</td>\n",
       "      <td>0.0000</td>\n",
       "      <td>0.000000e+00</td>\n",
       "      <td>100</td>\n",
       "      <td>1</td>\n",
       "      <td>{'C': 100, 'gamma': 1}</td>\n",
       "      <td>0.916667</td>\n",
       "      <td>1.000000</td>\n",
       "      <td>1.000000</td>\n",
       "      <td>0.863636</td>\n",
       "      <td>0.952381</td>\n",
       "      <td>0.946429</td>\n",
       "      <td>0.051923</td>\n",
       "      <td>8</td>\n",
       "    </tr>\n",
       "    <tr>\n",
       "      <th>34</th>\n",
       "      <td>0.0012</td>\n",
       "      <td>4.000664e-04</td>\n",
       "      <td>0.0002</td>\n",
       "      <td>4.000664e-04</td>\n",
       "      <td>100</td>\n",
       "      <td>10</td>\n",
       "      <td>{'C': 100, 'gamma': 10}</td>\n",
       "      <td>0.875000</td>\n",
       "      <td>0.956522</td>\n",
       "      <td>1.000000</td>\n",
       "      <td>0.818182</td>\n",
       "      <td>0.952381</td>\n",
       "      <td>0.919643</td>\n",
       "      <td>0.064791</td>\n",
       "      <td>13</td>\n",
       "    </tr>\n",
       "    <tr>\n",
       "      <th>35</th>\n",
       "      <td>0.0014</td>\n",
       "      <td>4.900961e-04</td>\n",
       "      <td>0.0006</td>\n",
       "      <td>4.899792e-04</td>\n",
       "      <td>100</td>\n",
       "      <td>100</td>\n",
       "      <td>{'C': 100, 'gamma': 100}</td>\n",
       "      <td>0.541667</td>\n",
       "      <td>0.521739</td>\n",
       "      <td>0.590909</td>\n",
       "      <td>0.590909</td>\n",
       "      <td>0.619048</td>\n",
       "      <td>0.571429</td>\n",
       "      <td>0.035652</td>\n",
       "      <td>19</td>\n",
       "    </tr>\n",
       "  </tbody>\n",
       "</table>\n",
       "</div>"
      ],
      "text/plain": [
       "    mean_fit_time  std_fit_time  mean_score_time  std_score_time param_C  \\\n",
       "0          0.0008  4.000664e-04           0.0006    4.899792e-04   0.001   \n",
       "1          0.0008  4.001141e-04           0.0002    4.000664e-04   0.001   \n",
       "2          0.0006  4.899792e-04           0.0004    4.900376e-04   0.001   \n",
       "3          0.0008  4.000664e-04           0.0002    4.000664e-04   0.001   \n",
       "4          0.0010  0.000000e+00           0.0004    4.899792e-04   0.001   \n",
       "5          0.0012  4.000187e-04           0.0010    9.536743e-08   0.001   \n",
       "6          0.0008  4.000664e-04           0.0006    4.900182e-04    0.01   \n",
       "7          0.0010  0.000000e+00           0.0000    0.000000e+00    0.01   \n",
       "8          0.0008  4.000902e-04           0.0002    4.000664e-04    0.01   \n",
       "9          0.0006  4.899792e-04           0.0002    4.000664e-04    0.01   \n",
       "10         0.0010  9.536743e-08           0.0002    4.000664e-04    0.01   \n",
       "11         0.0018  4.000902e-04           0.0000    0.000000e+00    0.01   \n",
       "12         0.0004  4.899792e-04           0.0004    4.899792e-04     0.1   \n",
       "13         0.0006  4.900182e-04           0.0002    4.000664e-04     0.1   \n",
       "14         0.0008  4.000902e-04           0.0002    4.000664e-04     0.1   \n",
       "15         0.0004  4.900376e-04           0.0002    4.000664e-04     0.1   \n",
       "16         0.0010  0.000000e+00           0.0002    4.000664e-04     0.1   \n",
       "17         0.0016  4.900182e-04           0.0000    0.000000e+00     0.1   \n",
       "18         0.0010  9.536743e-08           0.0000    0.000000e+00       1   \n",
       "19         0.0004  4.899792e-04           0.0002    4.000664e-04       1   \n",
       "20         0.0000  0.000000e+00           0.0008    4.000902e-04       1   \n",
       "21         0.0006  4.899792e-04           0.0004    4.899792e-04       1   \n",
       "22         0.0014  4.900960e-04           0.0002    4.001617e-04       1   \n",
       "23         0.0014  4.899792e-04           0.0004    4.900376e-04       1   \n",
       "24         0.0008  4.000664e-04           0.0002    4.000664e-04      10   \n",
       "25         0.0000  0.000000e+00           0.0000    0.000000e+00      10   \n",
       "26         0.0002  4.000664e-04           0.0000    0.000000e+00      10   \n",
       "27         0.0000  0.000000e+00           0.0004    4.899792e-04      10   \n",
       "28         0.0012  4.001617e-04           0.0002    4.000664e-04      10   \n",
       "29         0.0014  4.899792e-04           0.0006    4.900182e-04      10   \n",
       "30         0.0010  9.536743e-08           0.0000    0.000000e+00     100   \n",
       "31         0.0006  4.899792e-04           0.0000    0.000000e+00     100   \n",
       "32         0.0010  9.536743e-08           0.0000    0.000000e+00     100   \n",
       "33         0.0006  4.899792e-04           0.0000    0.000000e+00     100   \n",
       "34         0.0012  4.000664e-04           0.0002    4.000664e-04     100   \n",
       "35         0.0014  4.900961e-04           0.0006    4.899792e-04     100   \n",
       "\n",
       "   param_gamma                        params  split0_test_score  \\\n",
       "0        0.001  {'C': 0.001, 'gamma': 0.001}           0.375000   \n",
       "1         0.01   {'C': 0.001, 'gamma': 0.01}           0.375000   \n",
       "2          0.1    {'C': 0.001, 'gamma': 0.1}           0.375000   \n",
       "3            1      {'C': 0.001, 'gamma': 1}           0.375000   \n",
       "4           10     {'C': 0.001, 'gamma': 10}           0.375000   \n",
       "5          100    {'C': 0.001, 'gamma': 100}           0.375000   \n",
       "6        0.001   {'C': 0.01, 'gamma': 0.001}           0.375000   \n",
       "7         0.01    {'C': 0.01, 'gamma': 0.01}           0.375000   \n",
       "8          0.1     {'C': 0.01, 'gamma': 0.1}           0.375000   \n",
       "9            1       {'C': 0.01, 'gamma': 1}           0.375000   \n",
       "10          10      {'C': 0.01, 'gamma': 10}           0.375000   \n",
       "11         100     {'C': 0.01, 'gamma': 100}           0.375000   \n",
       "12       0.001    {'C': 0.1, 'gamma': 0.001}           0.375000   \n",
       "13        0.01     {'C': 0.1, 'gamma': 0.01}           0.708333   \n",
       "14         0.1      {'C': 0.1, 'gamma': 0.1}           0.916667   \n",
       "15           1        {'C': 0.1, 'gamma': 1}           1.000000   \n",
       "16          10       {'C': 0.1, 'gamma': 10}           0.375000   \n",
       "17         100      {'C': 0.1, 'gamma': 100}           0.375000   \n",
       "18       0.001      {'C': 1, 'gamma': 0.001}           0.708333   \n",
       "19        0.01       {'C': 1, 'gamma': 0.01}           0.875000   \n",
       "20         0.1        {'C': 1, 'gamma': 0.1}           1.000000   \n",
       "21           1          {'C': 1, 'gamma': 1}           0.916667   \n",
       "22          10         {'C': 1, 'gamma': 10}           0.875000   \n",
       "23         100        {'C': 1, 'gamma': 100}           0.500000   \n",
       "24       0.001     {'C': 10, 'gamma': 0.001}           0.875000   \n",
       "25        0.01      {'C': 10, 'gamma': 0.01}           1.000000   \n",
       "26         0.1       {'C': 10, 'gamma': 0.1}           0.958333   \n",
       "27           1         {'C': 10, 'gamma': 1}           0.916667   \n",
       "28          10        {'C': 10, 'gamma': 10}           0.875000   \n",
       "29         100       {'C': 10, 'gamma': 100}           0.541667   \n",
       "30       0.001    {'C': 100, 'gamma': 0.001}           1.000000   \n",
       "31        0.01     {'C': 100, 'gamma': 0.01}           1.000000   \n",
       "32         0.1      {'C': 100, 'gamma': 0.1}           0.958333   \n",
       "33           1        {'C': 100, 'gamma': 1}           0.916667   \n",
       "34          10       {'C': 100, 'gamma': 10}           0.875000   \n",
       "35         100      {'C': 100, 'gamma': 100}           0.541667   \n",
       "\n",
       "    split1_test_score  split2_test_score  split3_test_score  \\\n",
       "0            0.347826           0.363636           0.363636   \n",
       "1            0.347826           0.363636           0.363636   \n",
       "2            0.347826           0.363636           0.363636   \n",
       "3            0.347826           0.363636           0.363636   \n",
       "4            0.347826           0.363636           0.363636   \n",
       "5            0.347826           0.363636           0.363636   \n",
       "6            0.347826           0.363636           0.363636   \n",
       "7            0.347826           0.363636           0.363636   \n",
       "8            0.347826           0.363636           0.363636   \n",
       "9            0.347826           0.363636           0.363636   \n",
       "10           0.347826           0.363636           0.363636   \n",
       "11           0.347826           0.363636           0.363636   \n",
       "12           0.347826           0.363636           0.363636   \n",
       "13           0.695652           0.681818           0.681818   \n",
       "14           0.913043           1.000000           0.863636   \n",
       "15           0.913043           1.000000           0.909091   \n",
       "16           0.347826           0.363636           0.363636   \n",
       "17           0.347826           0.363636           0.363636   \n",
       "18           0.695652           0.681818           0.681818   \n",
       "19           0.913043           1.000000           0.909091   \n",
       "20           0.956522           1.000000           0.909091   \n",
       "21           0.956522           1.000000           0.909091   \n",
       "22           0.956522           1.000000           0.818182   \n",
       "23           0.434783           0.545455           0.500000   \n",
       "24           0.913043           1.000000           0.909091   \n",
       "25           0.956522           1.000000           0.909091   \n",
       "26           0.956522           1.000000           0.954545   \n",
       "27           0.956522           1.000000           0.863636   \n",
       "28           0.956522           1.000000           0.818182   \n",
       "29           0.521739           0.590909           0.590909   \n",
       "30           0.956522           1.000000           0.909091   \n",
       "31           0.956522           1.000000           0.954545   \n",
       "32           1.000000           1.000000           0.863636   \n",
       "33           1.000000           1.000000           0.863636   \n",
       "34           0.956522           1.000000           0.818182   \n",
       "35           0.521739           0.590909           0.590909   \n",
       "\n",
       "    split4_test_score  mean_test_score  std_test_score  rank_test_score  \n",
       "0            0.380952         0.366071        0.011371               22  \n",
       "1            0.380952         0.366071        0.011371               22  \n",
       "2            0.380952         0.366071        0.011371               22  \n",
       "3            0.380952         0.366071        0.011371               22  \n",
       "4            0.380952         0.366071        0.011371               22  \n",
       "5            0.380952         0.366071        0.011371               22  \n",
       "6            0.380952         0.366071        0.011371               22  \n",
       "7            0.380952         0.366071        0.011371               22  \n",
       "8            0.380952         0.366071        0.011371               22  \n",
       "9            0.380952         0.366071        0.011371               22  \n",
       "10           0.380952         0.366071        0.011371               22  \n",
       "11           0.380952         0.366071        0.011371               22  \n",
       "12           0.380952         0.366071        0.011371               22  \n",
       "13           0.714286         0.696429        0.013196               17  \n",
       "14           0.904762         0.919643        0.044010               13  \n",
       "15           0.952381         0.955357        0.040104                6  \n",
       "16           0.380952         0.366071        0.011371               22  \n",
       "17           0.380952         0.366071        0.011371               22  \n",
       "18           0.714286         0.696429        0.013196               17  \n",
       "19           0.952381         0.928571        0.042983               11  \n",
       "20           0.952381         0.964286        0.034077                2  \n",
       "21           0.952381         0.946429        0.032480                8  \n",
       "22           0.952381         0.919643        0.064791               13  \n",
       "23           0.571429         0.508929        0.046435               21  \n",
       "24           0.952381         0.928571        0.042983               11  \n",
       "25           0.952381         0.964286        0.034077                2  \n",
       "26           0.952381         0.964286        0.017769                2  \n",
       "27           0.952381         0.937500        0.045253               10  \n",
       "28           0.952381         0.919643        0.064791               13  \n",
       "29           0.619048         0.571429        0.035652               19  \n",
       "30           0.952381         0.964286        0.034077                2  \n",
       "31           0.952381         0.973214        0.022400                1  \n",
       "32           0.952381         0.955357        0.049566                6  \n",
       "33           0.952381         0.946429        0.051923                8  \n",
       "34           0.952381         0.919643        0.064791               13  \n",
       "35           0.619048         0.571429        0.035652               19  "
      ]
     },
     "execution_count": 9,
     "metadata": {},
     "output_type": "execute_result"
    }
   ],
   "source": [
    "import pandas as pd\n",
    "results=pd.DataFrame(grid_search.cv_results_)\n",
    "results"
   ]
  },
  {
   "cell_type": "code",
   "execution_count": 10,
   "metadata": {},
   "outputs": [
    {
     "data": {
      "text/html": [
       "<div>\n",
       "<style scoped>\n",
       "    .dataframe tbody tr th:only-of-type {\n",
       "        vertical-align: middle;\n",
       "    }\n",
       "\n",
       "    .dataframe tbody tr th {\n",
       "        vertical-align: top;\n",
       "    }\n",
       "\n",
       "    .dataframe thead th {\n",
       "        text-align: right;\n",
       "    }\n",
       "</style>\n",
       "<table border=\"1\" class=\"dataframe\">\n",
       "  <thead>\n",
       "    <tr style=\"text-align: right;\">\n",
       "      <th></th>\n",
       "      <th>mean_fit_time</th>\n",
       "      <th>std_fit_time</th>\n",
       "      <th>mean_score_time</th>\n",
       "      <th>std_score_time</th>\n",
       "      <th>param_C</th>\n",
       "      <th>param_gamma</th>\n",
       "      <th>params</th>\n",
       "      <th>split0_test_score</th>\n",
       "      <th>split1_test_score</th>\n",
       "      <th>split2_test_score</th>\n",
       "      <th>split3_test_score</th>\n",
       "      <th>split4_test_score</th>\n",
       "      <th>mean_test_score</th>\n",
       "      <th>std_test_score</th>\n",
       "      <th>rank_test_score</th>\n",
       "    </tr>\n",
       "  </thead>\n",
       "  <tbody>\n",
       "    <tr>\n",
       "      <th>31</th>\n",
       "      <td>0.0006</td>\n",
       "      <td>0.00049</td>\n",
       "      <td>0.0</td>\n",
       "      <td>0.0</td>\n",
       "      <td>100</td>\n",
       "      <td>0.01</td>\n",
       "      <td>{'C': 100, 'gamma': 0.01}</td>\n",
       "      <td>1.0</td>\n",
       "      <td>0.956522</td>\n",
       "      <td>1.0</td>\n",
       "      <td>0.954545</td>\n",
       "      <td>0.952381</td>\n",
       "      <td>0.973214</td>\n",
       "      <td>0.0224</td>\n",
       "      <td>1</td>\n",
       "    </tr>\n",
       "  </tbody>\n",
       "</table>\n",
       "</div>"
      ],
      "text/plain": [
       "    mean_fit_time  std_fit_time  mean_score_time  std_score_time param_C  \\\n",
       "31         0.0006       0.00049              0.0             0.0     100   \n",
       "\n",
       "   param_gamma                     params  split0_test_score  \\\n",
       "31        0.01  {'C': 100, 'gamma': 0.01}                1.0   \n",
       "\n",
       "    split1_test_score  split2_test_score  split3_test_score  \\\n",
       "31           0.956522                1.0           0.954545   \n",
       "\n",
       "    split4_test_score  mean_test_score  std_test_score  rank_test_score  \n",
       "31           0.952381         0.973214          0.0224                1  "
      ]
     },
     "execution_count": 10,
     "metadata": {},
     "output_type": "execute_result"
    }
   ],
   "source": [
    "results[results.rank_test_score==1]"
   ]
  },
  {
   "cell_type": "code",
   "execution_count": 43,
   "metadata": {},
   "outputs": [
    {
     "data": {
      "text/plain": [
       "array([[0.36607143, 0.36607143, 0.36607143, 0.36607143, 0.36607143,\n",
       "        0.36607143],\n",
       "       [0.36607143, 0.36607143, 0.36607143, 0.36607143, 0.36607143,\n",
       "        0.36607143],\n",
       "       [0.36607143, 0.69642857, 0.91964286, 0.95535714, 0.36607143,\n",
       "        0.36607143],\n",
       "       [0.69642857, 0.92857143, 0.96428571, 0.94642857, 0.91964286,\n",
       "        0.50892857],\n",
       "       [0.92857143, 0.96428571, 0.96428571, 0.9375    , 0.91964286,\n",
       "        0.57142857],\n",
       "       [0.96428571, 0.97321429, 0.95535714, 0.94642857, 0.91964286,\n",
       "        0.57142857]])"
      ]
     },
     "execution_count": 43,
     "metadata": {},
     "output_type": "execute_result"
    }
   ],
   "source": [
    "import numpy as np\n",
    "scores=np.array(results.mean_test_score).reshape(6,6)\n",
    "scores"
   ]
  },
  {
   "cell_type": "code",
   "execution_count": 56,
   "metadata": {},
   "outputs": [
    {
     "data": {
      "text/html": [
       "<div>\n",
       "<style scoped>\n",
       "    .dataframe tbody tr th:only-of-type {\n",
       "        vertical-align: middle;\n",
       "    }\n",
       "\n",
       "    .dataframe tbody tr th {\n",
       "        vertical-align: top;\n",
       "    }\n",
       "\n",
       "    .dataframe thead th {\n",
       "        text-align: right;\n",
       "    }\n",
       "</style>\n",
       "<table border=\"1\" class=\"dataframe\">\n",
       "  <thead>\n",
       "    <tr style=\"text-align: right;\">\n",
       "      <th></th>\n",
       "      <th>0.001</th>\n",
       "      <th>0.01</th>\n",
       "      <th>0.1</th>\n",
       "      <th>1.0</th>\n",
       "      <th>10.0</th>\n",
       "      <th>100.0</th>\n",
       "    </tr>\n",
       "  </thead>\n",
       "  <tbody>\n",
       "    <tr>\n",
       "      <th>0.001</th>\n",
       "      <td>0.366071</td>\n",
       "      <td>0.366071</td>\n",
       "      <td>0.366071</td>\n",
       "      <td>0.366071</td>\n",
       "      <td>0.366071</td>\n",
       "      <td>0.366071</td>\n",
       "    </tr>\n",
       "    <tr>\n",
       "      <th>0.010</th>\n",
       "      <td>0.366071</td>\n",
       "      <td>0.366071</td>\n",
       "      <td>0.366071</td>\n",
       "      <td>0.366071</td>\n",
       "      <td>0.366071</td>\n",
       "      <td>0.366071</td>\n",
       "    </tr>\n",
       "    <tr>\n",
       "      <th>0.100</th>\n",
       "      <td>0.366071</td>\n",
       "      <td>0.696429</td>\n",
       "      <td>0.919643</td>\n",
       "      <td>0.955357</td>\n",
       "      <td>0.366071</td>\n",
       "      <td>0.366071</td>\n",
       "    </tr>\n",
       "    <tr>\n",
       "      <th>1.000</th>\n",
       "      <td>0.696429</td>\n",
       "      <td>0.928571</td>\n",
       "      <td>0.964286</td>\n",
       "      <td>0.946429</td>\n",
       "      <td>0.919643</td>\n",
       "      <td>0.508929</td>\n",
       "    </tr>\n",
       "    <tr>\n",
       "      <th>10.000</th>\n",
       "      <td>0.928571</td>\n",
       "      <td>0.964286</td>\n",
       "      <td>0.964286</td>\n",
       "      <td>0.937500</td>\n",
       "      <td>0.919643</td>\n",
       "      <td>0.571429</td>\n",
       "    </tr>\n",
       "    <tr>\n",
       "      <th>100.000</th>\n",
       "      <td>0.964286</td>\n",
       "      <td>0.973214</td>\n",
       "      <td>0.955357</td>\n",
       "      <td>0.946429</td>\n",
       "      <td>0.919643</td>\n",
       "      <td>0.571429</td>\n",
       "    </tr>\n",
       "  </tbody>\n",
       "</table>\n",
       "</div>"
      ],
      "text/plain": [
       "          0.001     0.010     0.100     1.000     10.000    100.000\n",
       "0.001    0.366071  0.366071  0.366071  0.366071  0.366071  0.366071\n",
       "0.010    0.366071  0.366071  0.366071  0.366071  0.366071  0.366071\n",
       "0.100    0.366071  0.696429  0.919643  0.955357  0.366071  0.366071\n",
       "1.000    0.696429  0.928571  0.964286  0.946429  0.919643  0.508929\n",
       "10.000   0.928571  0.964286  0.964286  0.937500  0.919643  0.571429\n",
       "100.000  0.964286  0.973214  0.955357  0.946429  0.919643  0.571429"
      ]
     },
     "execution_count": 56,
     "metadata": {},
     "output_type": "execute_result"
    }
   ],
   "source": [
    "scores=pd.DataFrame(scores)\n",
    "scores.columns=param_grid['gamma']\n",
    "scores.index=param_grid['C']\n",
    "scores"
   ]
  },
  {
   "cell_type": "code",
   "execution_count": 67,
   "metadata": {},
   "outputs": [
    {
     "data": {
      "text/plain": [
       "(array([0.5, 1.5, 2.5, 3.5, 4.5, 5.5]), <a list of 6 Text yticklabel objects>)"
      ]
     },
     "execution_count": 67,
     "metadata": {},
     "output_type": "execute_result"
    },
    {
     "data": {
      "image/png": "[encoded data removed]",
      "text/plain": [
       "<Figure size 360x360 with 2 Axes>"
      ]
     },
     "metadata": {},
     "output_type": "display_data"
    }
   ],
   "source": [
    "import matplotlib.pyplot as plt\n",
    ">>> import numpy as np; np.random.seed(0)\n",
    ">>> import seaborn as sns; sns.set()\n",
    "plt.rcParams['font.sans-serif'] = ['SimHei']  # 解决中文显示问题-设置字体为黑体\n",
    "plt.rcParams['axes.unicode_minus'] = False\n",
    "plt.rcParams['figure.figsize']=[5,5]#设置图像尺寸\n",
    "plt.xlabel='gamma'\n",
    "plt.ylabel='C'\n",
    "import pandas as pd\n",
    "pd.set_option('display.float_format',lambda x : '%.2f' % x)\n",
    "g=sns.heatmap(scores,vmin=0.3, vmax=1,cmap=\"YlGn\",annot=True,linewidths=.5)\n",
    "plt.yticks(rotation=360)"
   ]
  },
  {
   "cell_type": "markdown",
   "metadata": {},
   "source": [
    "# 5.2.3.2在非网格的空间中搜索"
   ]
  },
  {
   "cell_type": "markdown",
   "metadata": {},
   "source": [
    "在某些情况下，尝试参数的所有可能组合并不是一个好主意，SVC有一个kernel参数，如果kernel是linear，只会用到C参数，如果kernel是rbf，则需要使用gamma和C两个参数，这种情况下网格搜索就会浪费时间，此时可以字典组成列表"
   ]
  },
  {
   "cell_type": "code",
   "execution_count": 2,
   "metadata": {},
   "outputs": [
    {
     "name": "stdout",
     "output_type": "stream",
     "text": [
      "{'C': 100, 'gamma': 0.01, 'kernel': 'rbf'}\n",
      "0.9732142857142857\n"
     ]
    },
    {
     "name": "stderr",
     "output_type": "stream",
     "text": [
      "C:\\ProgramData\\Anaconda3\\lib\\site-packages\\sklearn\\model_selection\\_search.py:813: DeprecationWarning: The default of the `iid` parameter will change from True to False in version 0.22 and will be removed in 0.24. This will change numeric results when test-set sizes are unequal.\n",
      "  DeprecationWarning)\n"
     ]
    }
   ],
   "source": [
    "param_grid = [{'kernel': ['rbf'],\n",
    "               'C': [0.001, 0.01, 0.1, 1, 10, 100],\n",
    "               'gamma': [0.001, 0.01, 0.1, 1, 10, 100]},\n",
    "              {'kernel': ['linear'],\n",
    "               'C': [0.001, 0.01, 0.1, 1, 10, 100]}]\n",
    "from sklearn.model_selection import GridSearchCV\n",
    "from sklearn.svm import SVC\n",
    "grid_search=GridSearchCV(SVC(),param_grid,cv=5)\n",
    "x_trainval, x_test, y_trainval, y_test = train_test_split(iris.data, iris.target, random_state=0)\n",
    "grid_search.fit(x_trainval,y_trainval)\n",
    "print(grid_search.best_params_)\n",
    "print(grid_search.best_score_)"
   ]
  },
  {
   "cell_type": "code",
   "execution_count": 5,
   "metadata": {},
   "outputs": [
    {
     "data": {
      "text/html": [
       "<div>\n",
       "<style scoped>\n",
       "    .dataframe tbody tr th:only-of-type {\n",
       "        vertical-align: middle;\n",
       "    }\n",
       "\n",
       "    .dataframe tbody tr th {\n",
       "        vertical-align: top;\n",
       "    }\n",
       "\n",
       "    .dataframe thead th {\n",
       "        text-align: right;\n",
       "    }\n",
       "</style>\n",
       "<table border=\"1\" class=\"dataframe\">\n",
       "  <thead>\n",
       "    <tr style=\"text-align: right;\">\n",
       "      <th></th>\n",
       "      <th>mean_fit_time</th>\n",
       "      <th>std_fit_time</th>\n",
       "      <th>mean_score_time</th>\n",
       "      <th>std_score_time</th>\n",
       "      <th>param_C</th>\n",
       "      <th>param_gamma</th>\n",
       "      <th>param_kernel</th>\n",
       "      <th>params</th>\n",
       "      <th>split0_test_score</th>\n",
       "      <th>split1_test_score</th>\n",
       "      <th>split2_test_score</th>\n",
       "      <th>split3_test_score</th>\n",
       "      <th>split4_test_score</th>\n",
       "      <th>mean_test_score</th>\n",
       "      <th>std_test_score</th>\n",
       "      <th>rank_test_score</th>\n",
       "    </tr>\n",
       "  </thead>\n",
       "  <tbody>\n",
       "    <tr>\n",
       "      <th>0</th>\n",
       "      <td>0.0018</td>\n",
       "      <td>4.000902e-04</td>\n",
       "      <td>0.0002</td>\n",
       "      <td>0.00040</td>\n",
       "      <td>0.001</td>\n",
       "      <td>0.001</td>\n",
       "      <td>rbf</td>\n",
       "      <td>{'C': 0.001, 'gamma': 0.001, 'kernel': 'rbf'}</td>\n",
       "      <td>0.375000</td>\n",
       "      <td>0.347826</td>\n",
       "      <td>0.363636</td>\n",
       "      <td>0.363636</td>\n",
       "      <td>0.380952</td>\n",
       "      <td>0.366071</td>\n",
       "      <td>0.011371</td>\n",
       "      <td>27</td>\n",
       "    </tr>\n",
       "    <tr>\n",
       "      <th>1</th>\n",
       "      <td>0.0012</td>\n",
       "      <td>7.484557e-04</td>\n",
       "      <td>0.0004</td>\n",
       "      <td>0.00049</td>\n",
       "      <td>0.001</td>\n",
       "      <td>0.01</td>\n",
       "      <td>rbf</td>\n",
       "      <td>{'C': 0.001, 'gamma': 0.01, 'kernel': 'rbf'}</td>\n",
       "      <td>0.375000</td>\n",
       "      <td>0.347826</td>\n",
       "      <td>0.363636</td>\n",
       "      <td>0.363636</td>\n",
       "      <td>0.380952</td>\n",
       "      <td>0.366071</td>\n",
       "      <td>0.011371</td>\n",
       "      <td>27</td>\n",
       "    </tr>\n",
       "    <tr>\n",
       "      <th>2</th>\n",
       "      <td>0.0008</td>\n",
       "      <td>4.000902e-04</td>\n",
       "      <td>0.0002</td>\n",
       "      <td>0.00040</td>\n",
       "      <td>0.001</td>\n",
       "      <td>0.1</td>\n",
       "      <td>rbf</td>\n",
       "      <td>{'C': 0.001, 'gamma': 0.1, 'kernel': 'rbf'}</td>\n",
       "      <td>0.375000</td>\n",
       "      <td>0.347826</td>\n",
       "      <td>0.363636</td>\n",
       "      <td>0.363636</td>\n",
       "      <td>0.380952</td>\n",
       "      <td>0.366071</td>\n",
       "      <td>0.011371</td>\n",
       "      <td>27</td>\n",
       "    </tr>\n",
       "    <tr>\n",
       "      <th>3</th>\n",
       "      <td>0.0008</td>\n",
       "      <td>4.001141e-04</td>\n",
       "      <td>0.0002</td>\n",
       "      <td>0.00040</td>\n",
       "      <td>0.001</td>\n",
       "      <td>1</td>\n",
       "      <td>rbf</td>\n",
       "      <td>{'C': 0.001, 'gamma': 1, 'kernel': 'rbf'}</td>\n",
       "      <td>0.375000</td>\n",
       "      <td>0.347826</td>\n",
       "      <td>0.363636</td>\n",
       "      <td>0.363636</td>\n",
       "      <td>0.380952</td>\n",
       "      <td>0.366071</td>\n",
       "      <td>0.011371</td>\n",
       "      <td>27</td>\n",
       "    </tr>\n",
       "    <tr>\n",
       "      <th>4</th>\n",
       "      <td>0.0012</td>\n",
       "      <td>4.000664e-04</td>\n",
       "      <td>0.0002</td>\n",
       "      <td>0.00040</td>\n",
       "      <td>0.001</td>\n",
       "      <td>10</td>\n",
       "      <td>rbf</td>\n",
       "      <td>{'C': 0.001, 'gamma': 10, 'kernel': 'rbf'}</td>\n",
       "      <td>0.375000</td>\n",
       "      <td>0.347826</td>\n",
       "      <td>0.363636</td>\n",
       "      <td>0.363636</td>\n",
       "      <td>0.380952</td>\n",
       "      <td>0.366071</td>\n",
       "      <td>0.011371</td>\n",
       "      <td>27</td>\n",
       "    </tr>\n",
       "    <tr>\n",
       "      <th>5</th>\n",
       "      <td>0.0010</td>\n",
       "      <td>9.536743e-08</td>\n",
       "      <td>0.0002</td>\n",
       "      <td>0.00040</td>\n",
       "      <td>0.001</td>\n",
       "      <td>100</td>\n",
       "      <td>rbf</td>\n",
       "      <td>{'C': 0.001, 'gamma': 100, 'kernel': 'rbf'}</td>\n",
       "      <td>0.375000</td>\n",
       "      <td>0.347826</td>\n",
       "      <td>0.363636</td>\n",
       "      <td>0.363636</td>\n",
       "      <td>0.380952</td>\n",
       "      <td>0.366071</td>\n",
       "      <td>0.011371</td>\n",
       "      <td>27</td>\n",
       "    </tr>\n",
       "    <tr>\n",
       "      <th>6</th>\n",
       "      <td>0.0008</td>\n",
       "      <td>4.000902e-04</td>\n",
       "      <td>0.0002</td>\n",
       "      <td>0.00040</td>\n",
       "      <td>0.01</td>\n",
       "      <td>0.001</td>\n",
       "      <td>rbf</td>\n",
       "      <td>{'C': 0.01, 'gamma': 0.001, 'kernel': 'rbf'}</td>\n",
       "      <td>0.375000</td>\n",
       "      <td>0.347826</td>\n",
       "      <td>0.363636</td>\n",
       "      <td>0.363636</td>\n",
       "      <td>0.380952</td>\n",
       "      <td>0.366071</td>\n",
       "      <td>0.011371</td>\n",
       "      <td>27</td>\n",
       "    </tr>\n",
       "    <tr>\n",
       "      <th>7</th>\n",
       "      <td>0.0006</td>\n",
       "      <td>4.899792e-04</td>\n",
       "      <td>0.0006</td>\n",
       "      <td>0.00049</td>\n",
       "      <td>0.01</td>\n",
       "      <td>0.01</td>\n",
       "      <td>rbf</td>\n",
       "      <td>{'C': 0.01, 'gamma': 0.01, 'kernel': 'rbf'}</td>\n",
       "      <td>0.375000</td>\n",
       "      <td>0.347826</td>\n",
       "      <td>0.363636</td>\n",
       "      <td>0.363636</td>\n",
       "      <td>0.380952</td>\n",
       "      <td>0.366071</td>\n",
       "      <td>0.011371</td>\n",
       "      <td>27</td>\n",
       "    </tr>\n",
       "    <tr>\n",
       "      <th>8</th>\n",
       "      <td>0.0008</td>\n",
       "      <td>4.000664e-04</td>\n",
       "      <td>0.0002</td>\n",
       "      <td>0.00040</td>\n",
       "      <td>0.01</td>\n",
       "      <td>0.1</td>\n",
       "      <td>rbf</td>\n",
       "      <td>{'C': 0.01, 'gamma': 0.1, 'kernel': 'rbf'}</td>\n",
       "      <td>0.375000</td>\n",
       "      <td>0.347826</td>\n",
       "      <td>0.363636</td>\n",
       "      <td>0.363636</td>\n",
       "      <td>0.380952</td>\n",
       "      <td>0.366071</td>\n",
       "      <td>0.011371</td>\n",
       "      <td>27</td>\n",
       "    </tr>\n",
       "    <tr>\n",
       "      <th>9</th>\n",
       "      <td>0.0008</td>\n",
       "      <td>4.000902e-04</td>\n",
       "      <td>0.0002</td>\n",
       "      <td>0.00040</td>\n",
       "      <td>0.01</td>\n",
       "      <td>1</td>\n",
       "      <td>rbf</td>\n",
       "      <td>{'C': 0.01, 'gamma': 1, 'kernel': 'rbf'}</td>\n",
       "      <td>0.375000</td>\n",
       "      <td>0.347826</td>\n",
       "      <td>0.363636</td>\n",
       "      <td>0.363636</td>\n",
       "      <td>0.380952</td>\n",
       "      <td>0.366071</td>\n",
       "      <td>0.011371</td>\n",
       "      <td>27</td>\n",
       "    </tr>\n",
       "    <tr>\n",
       "      <th>10</th>\n",
       "      <td>0.0012</td>\n",
       "      <td>4.000425e-04</td>\n",
       "      <td>0.0002</td>\n",
       "      <td>0.00040</td>\n",
       "      <td>0.01</td>\n",
       "      <td>10</td>\n",
       "      <td>rbf</td>\n",
       "      <td>{'C': 0.01, 'gamma': 10, 'kernel': 'rbf'}</td>\n",
       "      <td>0.375000</td>\n",
       "      <td>0.347826</td>\n",
       "      <td>0.363636</td>\n",
       "      <td>0.363636</td>\n",
       "      <td>0.380952</td>\n",
       "      <td>0.366071</td>\n",
       "      <td>0.011371</td>\n",
       "      <td>27</td>\n",
       "    </tr>\n",
       "    <tr>\n",
       "      <th>11</th>\n",
       "      <td>0.0012</td>\n",
       "      <td>4.002571e-04</td>\n",
       "      <td>0.0000</td>\n",
       "      <td>0.00000</td>\n",
       "      <td>0.01</td>\n",
       "      <td>100</td>\n",
       "      <td>rbf</td>\n",
       "      <td>{'C': 0.01, 'gamma': 100, 'kernel': 'rbf'}</td>\n",
       "      <td>0.375000</td>\n",
       "      <td>0.347826</td>\n",
       "      <td>0.363636</td>\n",
       "      <td>0.363636</td>\n",
       "      <td>0.380952</td>\n",
       "      <td>0.366071</td>\n",
       "      <td>0.011371</td>\n",
       "      <td>27</td>\n",
       "    </tr>\n",
       "    <tr>\n",
       "      <th>12</th>\n",
       "      <td>0.0006</td>\n",
       "      <td>4.899792e-04</td>\n",
       "      <td>0.0004</td>\n",
       "      <td>0.00049</td>\n",
       "      <td>0.1</td>\n",
       "      <td>0.001</td>\n",
       "      <td>rbf</td>\n",
       "      <td>{'C': 0.1, 'gamma': 0.001, 'kernel': 'rbf'}</td>\n",
       "      <td>0.375000</td>\n",
       "      <td>0.347826</td>\n",
       "      <td>0.363636</td>\n",
       "      <td>0.363636</td>\n",
       "      <td>0.380952</td>\n",
       "      <td>0.366071</td>\n",
       "      <td>0.011371</td>\n",
       "      <td>27</td>\n",
       "    </tr>\n",
       "    <tr>\n",
       "      <th>13</th>\n",
       "      <td>0.0006</td>\n",
       "      <td>4.900182e-04</td>\n",
       "      <td>0.0004</td>\n",
       "      <td>0.00049</td>\n",
       "      <td>0.1</td>\n",
       "      <td>0.01</td>\n",
       "      <td>rbf</td>\n",
       "      <td>{'C': 0.1, 'gamma': 0.01, 'kernel': 'rbf'}</td>\n",
       "      <td>0.708333</td>\n",
       "      <td>0.695652</td>\n",
       "      <td>0.681818</td>\n",
       "      <td>0.681818</td>\n",
       "      <td>0.714286</td>\n",
       "      <td>0.696429</td>\n",
       "      <td>0.013196</td>\n",
       "      <td>22</td>\n",
       "    </tr>\n",
       "    <tr>\n",
       "      <th>14</th>\n",
       "      <td>0.0008</td>\n",
       "      <td>4.000664e-04</td>\n",
       "      <td>0.0002</td>\n",
       "      <td>0.00040</td>\n",
       "      <td>0.1</td>\n",
       "      <td>0.1</td>\n",
       "      <td>rbf</td>\n",
       "      <td>{'C': 0.1, 'gamma': 0.1, 'kernel': 'rbf'}</td>\n",
       "      <td>0.916667</td>\n",
       "      <td>0.913043</td>\n",
       "      <td>1.000000</td>\n",
       "      <td>0.863636</td>\n",
       "      <td>0.904762</td>\n",
       "      <td>0.919643</td>\n",
       "      <td>0.044010</td>\n",
       "      <td>17</td>\n",
       "    </tr>\n",
       "    <tr>\n",
       "      <th>15</th>\n",
       "      <td>0.0008</td>\n",
       "      <td>4.000902e-04</td>\n",
       "      <td>0.0002</td>\n",
       "      <td>0.00040</td>\n",
       "      <td>0.1</td>\n",
       "      <td>1</td>\n",
       "      <td>rbf</td>\n",
       "      <td>{'C': 0.1, 'gamma': 1, 'kernel': 'rbf'}</td>\n",
       "      <td>1.000000</td>\n",
       "      <td>0.913043</td>\n",
       "      <td>1.000000</td>\n",
       "      <td>0.909091</td>\n",
       "      <td>0.952381</td>\n",
       "      <td>0.955357</td>\n",
       "      <td>0.040104</td>\n",
       "      <td>9</td>\n",
       "    </tr>\n",
       "    <tr>\n",
       "      <th>16</th>\n",
       "      <td>0.0010</td>\n",
       "      <td>9.536743e-08</td>\n",
       "      <td>0.0002</td>\n",
       "      <td>0.00040</td>\n",
       "      <td>0.1</td>\n",
       "      <td>10</td>\n",
       "      <td>rbf</td>\n",
       "      <td>{'C': 0.1, 'gamma': 10, 'kernel': 'rbf'}</td>\n",
       "      <td>0.375000</td>\n",
       "      <td>0.347826</td>\n",
       "      <td>0.363636</td>\n",
       "      <td>0.363636</td>\n",
       "      <td>0.380952</td>\n",
       "      <td>0.366071</td>\n",
       "      <td>0.011371</td>\n",
       "      <td>27</td>\n",
       "    </tr>\n",
       "    <tr>\n",
       "      <th>17</th>\n",
       "      <td>0.0016</td>\n",
       "      <td>4.900182e-04</td>\n",
       "      <td>0.0000</td>\n",
       "      <td>0.00000</td>\n",
       "      <td>0.1</td>\n",
       "      <td>100</td>\n",
       "      <td>rbf</td>\n",
       "      <td>{'C': 0.1, 'gamma': 100, 'kernel': 'rbf'}</td>\n",
       "      <td>0.375000</td>\n",
       "      <td>0.347826</td>\n",
       "      <td>0.363636</td>\n",
       "      <td>0.363636</td>\n",
       "      <td>0.380952</td>\n",
       "      <td>0.366071</td>\n",
       "      <td>0.011371</td>\n",
       "      <td>27</td>\n",
       "    </tr>\n",
       "    <tr>\n",
       "      <th>18</th>\n",
       "      <td>0.0006</td>\n",
       "      <td>4.900182e-04</td>\n",
       "      <td>0.0004</td>\n",
       "      <td>0.00049</td>\n",
       "      <td>1</td>\n",
       "      <td>0.001</td>\n",
       "      <td>rbf</td>\n",
       "      <td>{'C': 1, 'gamma': 0.001, 'kernel': 'rbf'}</td>\n",
       "      <td>0.708333</td>\n",
       "      <td>0.695652</td>\n",
       "      <td>0.681818</td>\n",
       "      <td>0.681818</td>\n",
       "      <td>0.714286</td>\n",
       "      <td>0.696429</td>\n",
       "      <td>0.013196</td>\n",
       "      <td>22</td>\n",
       "    </tr>\n",
       "    <tr>\n",
       "      <th>19</th>\n",
       "      <td>0.0004</td>\n",
       "      <td>4.899792e-04</td>\n",
       "      <td>0.0002</td>\n",
       "      <td>0.00040</td>\n",
       "      <td>1</td>\n",
       "      <td>0.01</td>\n",
       "      <td>rbf</td>\n",
       "      <td>{'C': 1, 'gamma': 0.01, 'kernel': 'rbf'}</td>\n",
       "      <td>0.875000</td>\n",
       "      <td>0.913043</td>\n",
       "      <td>1.000000</td>\n",
       "      <td>0.909091</td>\n",
       "      <td>0.952381</td>\n",
       "      <td>0.928571</td>\n",
       "      <td>0.042983</td>\n",
       "      <td>15</td>\n",
       "    </tr>\n",
       "    <tr>\n",
       "      <th>20</th>\n",
       "      <td>0.0008</td>\n",
       "      <td>4.000664e-04</td>\n",
       "      <td>0.0002</td>\n",
       "      <td>0.00040</td>\n",
       "      <td>1</td>\n",
       "      <td>0.1</td>\n",
       "      <td>rbf</td>\n",
       "      <td>{'C': 1, 'gamma': 0.1, 'kernel': 'rbf'}</td>\n",
       "      <td>1.000000</td>\n",
       "      <td>0.956522</td>\n",
       "      <td>1.000000</td>\n",
       "      <td>0.909091</td>\n",
       "      <td>0.952381</td>\n",
       "      <td>0.964286</td>\n",
       "      <td>0.034077</td>\n",
       "      <td>3</td>\n",
       "    </tr>\n",
       "    <tr>\n",
       "      <th>21</th>\n",
       "      <td>0.0004</td>\n",
       "      <td>4.899792e-04</td>\n",
       "      <td>0.0004</td>\n",
       "      <td>0.00049</td>\n",
       "      <td>1</td>\n",
       "      <td>1</td>\n",
       "      <td>rbf</td>\n",
       "      <td>{'C': 1, 'gamma': 1, 'kernel': 'rbf'}</td>\n",
       "      <td>0.916667</td>\n",
       "      <td>0.956522</td>\n",
       "      <td>1.000000</td>\n",
       "      <td>0.909091</td>\n",
       "      <td>0.952381</td>\n",
       "      <td>0.946429</td>\n",
       "      <td>0.032480</td>\n",
       "      <td>11</td>\n",
       "    </tr>\n",
       "    <tr>\n",
       "      <th>22</th>\n",
       "      <td>0.0014</td>\n",
       "      <td>4.900376e-04</td>\n",
       "      <td>0.0002</td>\n",
       "      <td>0.00040</td>\n",
       "      <td>1</td>\n",
       "      <td>10</td>\n",
       "      <td>rbf</td>\n",
       "      <td>{'C': 1, 'gamma': 10, 'kernel': 'rbf'}</td>\n",
       "      <td>0.875000</td>\n",
       "      <td>0.956522</td>\n",
       "      <td>1.000000</td>\n",
       "      <td>0.818182</td>\n",
       "      <td>0.952381</td>\n",
       "      <td>0.919643</td>\n",
       "      <td>0.064791</td>\n",
       "      <td>17</td>\n",
       "    </tr>\n",
       "    <tr>\n",
       "      <th>23</th>\n",
       "      <td>0.0016</td>\n",
       "      <td>4.900182e-04</td>\n",
       "      <td>0.0002</td>\n",
       "      <td>0.00040</td>\n",
       "      <td>1</td>\n",
       "      <td>100</td>\n",
       "      <td>rbf</td>\n",
       "      <td>{'C': 1, 'gamma': 100, 'kernel': 'rbf'}</td>\n",
       "      <td>0.500000</td>\n",
       "      <td>0.434783</td>\n",
       "      <td>0.545455</td>\n",
       "      <td>0.500000</td>\n",
       "      <td>0.571429</td>\n",
       "      <td>0.508929</td>\n",
       "      <td>0.046435</td>\n",
       "      <td>26</td>\n",
       "    </tr>\n",
       "    <tr>\n",
       "      <th>24</th>\n",
       "      <td>0.0006</td>\n",
       "      <td>4.900182e-04</td>\n",
       "      <td>0.0004</td>\n",
       "      <td>0.00049</td>\n",
       "      <td>10</td>\n",
       "      <td>0.001</td>\n",
       "      <td>rbf</td>\n",
       "      <td>{'C': 10, 'gamma': 0.001, 'kernel': 'rbf'}</td>\n",
       "      <td>0.875000</td>\n",
       "      <td>0.913043</td>\n",
       "      <td>1.000000</td>\n",
       "      <td>0.909091</td>\n",
       "      <td>0.952381</td>\n",
       "      <td>0.928571</td>\n",
       "      <td>0.042983</td>\n",
       "      <td>15</td>\n",
       "    </tr>\n",
       "    <tr>\n",
       "      <th>25</th>\n",
       "      <td>0.0002</td>\n",
       "      <td>4.000664e-04</td>\n",
       "      <td>0.0000</td>\n",
       "      <td>0.00000</td>\n",
       "      <td>10</td>\n",
       "      <td>0.01</td>\n",
       "      <td>rbf</td>\n",
       "      <td>{'C': 10, 'gamma': 0.01, 'kernel': 'rbf'}</td>\n",
       "      <td>1.000000</td>\n",
       "      <td>0.956522</td>\n",
       "      <td>1.000000</td>\n",
       "      <td>0.909091</td>\n",
       "      <td>0.952381</td>\n",
       "      <td>0.964286</td>\n",
       "      <td>0.034077</td>\n",
       "      <td>3</td>\n",
       "    </tr>\n",
       "    <tr>\n",
       "      <th>26</th>\n",
       "      <td>0.0000</td>\n",
       "      <td>0.000000e+00</td>\n",
       "      <td>0.0000</td>\n",
       "      <td>0.00000</td>\n",
       "      <td>10</td>\n",
       "      <td>0.1</td>\n",
       "      <td>rbf</td>\n",
       "      <td>{'C': 10, 'gamma': 0.1, 'kernel': 'rbf'}</td>\n",
       "      <td>0.958333</td>\n",
       "      <td>0.956522</td>\n",
       "      <td>1.000000</td>\n",
       "      <td>0.954545</td>\n",
       "      <td>0.952381</td>\n",
       "      <td>0.964286</td>\n",
       "      <td>0.017769</td>\n",
       "      <td>3</td>\n",
       "    </tr>\n",
       "    <tr>\n",
       "      <th>27</th>\n",
       "      <td>0.0006</td>\n",
       "      <td>4.899792e-04</td>\n",
       "      <td>0.0004</td>\n",
       "      <td>0.00049</td>\n",
       "      <td>10</td>\n",
       "      <td>1</td>\n",
       "      <td>rbf</td>\n",
       "      <td>{'C': 10, 'gamma': 1, 'kernel': 'rbf'}</td>\n",
       "      <td>0.916667</td>\n",
       "      <td>0.956522</td>\n",
       "      <td>1.000000</td>\n",
       "      <td>0.863636</td>\n",
       "      <td>0.952381</td>\n",
       "      <td>0.937500</td>\n",
       "      <td>0.045253</td>\n",
       "      <td>14</td>\n",
       "    </tr>\n",
       "    <tr>\n",
       "      <th>28</th>\n",
       "      <td>0.0010</td>\n",
       "      <td>0.000000e+00</td>\n",
       "      <td>0.0004</td>\n",
       "      <td>0.00049</td>\n",
       "      <td>10</td>\n",
       "      <td>10</td>\n",
       "      <td>rbf</td>\n",
       "      <td>{'C': 10, 'gamma': 10, 'kernel': 'rbf'}</td>\n",
       "      <td>0.875000</td>\n",
       "      <td>0.956522</td>\n",
       "      <td>1.000000</td>\n",
       "      <td>0.818182</td>\n",
       "      <td>0.952381</td>\n",
       "      <td>0.919643</td>\n",
       "      <td>0.064791</td>\n",
       "      <td>17</td>\n",
       "    </tr>\n",
       "    <tr>\n",
       "      <th>29</th>\n",
       "      <td>0.0016</td>\n",
       "      <td>4.900182e-04</td>\n",
       "      <td>0.0004</td>\n",
       "      <td>0.00049</td>\n",
       "      <td>10</td>\n",
       "      <td>100</td>\n",
       "      <td>rbf</td>\n",
       "      <td>{'C': 10, 'gamma': 100, 'kernel': 'rbf'}</td>\n",
       "      <td>0.541667</td>\n",
       "      <td>0.521739</td>\n",
       "      <td>0.590909</td>\n",
       "      <td>0.590909</td>\n",
       "      <td>0.619048</td>\n",
       "      <td>0.571429</td>\n",
       "      <td>0.035652</td>\n",
       "      <td>24</td>\n",
       "    </tr>\n",
       "    <tr>\n",
       "      <th>30</th>\n",
       "      <td>0.0006</td>\n",
       "      <td>4.899792e-04</td>\n",
       "      <td>0.0000</td>\n",
       "      <td>0.00000</td>\n",
       "      <td>100</td>\n",
       "      <td>0.001</td>\n",
       "      <td>rbf</td>\n",
       "      <td>{'C': 100, 'gamma': 0.001, 'kernel': 'rbf'}</td>\n",
       "      <td>1.000000</td>\n",
       "      <td>0.956522</td>\n",
       "      <td>1.000000</td>\n",
       "      <td>0.909091</td>\n",
       "      <td>0.952381</td>\n",
       "      <td>0.964286</td>\n",
       "      <td>0.034077</td>\n",
       "      <td>3</td>\n",
       "    </tr>\n",
       "    <tr>\n",
       "      <th>31</th>\n",
       "      <td>0.0002</td>\n",
       "      <td>4.000664e-04</td>\n",
       "      <td>0.0000</td>\n",
       "      <td>0.00000</td>\n",
       "      <td>100</td>\n",
       "      <td>0.01</td>\n",
       "      <td>rbf</td>\n",
       "      <td>{'C': 100, 'gamma': 0.01, 'kernel': 'rbf'}</td>\n",
       "      <td>1.000000</td>\n",
       "      <td>0.956522</td>\n",
       "      <td>1.000000</td>\n",
       "      <td>0.954545</td>\n",
       "      <td>0.952381</td>\n",
       "      <td>0.973214</td>\n",
       "      <td>0.022400</td>\n",
       "      <td>1</td>\n",
       "    </tr>\n",
       "    <tr>\n",
       "      <th>32</th>\n",
       "      <td>0.0010</td>\n",
       "      <td>0.000000e+00</td>\n",
       "      <td>0.0000</td>\n",
       "      <td>0.00000</td>\n",
       "      <td>100</td>\n",
       "      <td>0.1</td>\n",
       "      <td>rbf</td>\n",
       "      <td>{'C': 100, 'gamma': 0.1, 'kernel': 'rbf'}</td>\n",
       "      <td>0.958333</td>\n",
       "      <td>1.000000</td>\n",
       "      <td>1.000000</td>\n",
       "      <td>0.863636</td>\n",
       "      <td>0.952381</td>\n",
       "      <td>0.955357</td>\n",
       "      <td>0.049566</td>\n",
       "      <td>9</td>\n",
       "    </tr>\n",
       "    <tr>\n",
       "      <th>33</th>\n",
       "      <td>0.0004</td>\n",
       "      <td>4.899792e-04</td>\n",
       "      <td>0.0004</td>\n",
       "      <td>0.00049</td>\n",
       "      <td>100</td>\n",
       "      <td>1</td>\n",
       "      <td>rbf</td>\n",
       "      <td>{'C': 100, 'gamma': 1, 'kernel': 'rbf'}</td>\n",
       "      <td>0.916667</td>\n",
       "      <td>1.000000</td>\n",
       "      <td>1.000000</td>\n",
       "      <td>0.863636</td>\n",
       "      <td>0.952381</td>\n",
       "      <td>0.946429</td>\n",
       "      <td>0.051923</td>\n",
       "      <td>11</td>\n",
       "    </tr>\n",
       "    <tr>\n",
       "      <th>34</th>\n",
       "      <td>0.0012</td>\n",
       "      <td>4.000425e-04</td>\n",
       "      <td>0.0002</td>\n",
       "      <td>0.00040</td>\n",
       "      <td>100</td>\n",
       "      <td>10</td>\n",
       "      <td>rbf</td>\n",
       "      <td>{'C': 100, 'gamma': 10, 'kernel': 'rbf'}</td>\n",
       "      <td>0.875000</td>\n",
       "      <td>0.956522</td>\n",
       "      <td>1.000000</td>\n",
       "      <td>0.818182</td>\n",
       "      <td>0.952381</td>\n",
       "      <td>0.919643</td>\n",
       "      <td>0.064791</td>\n",
       "      <td>17</td>\n",
       "    </tr>\n",
       "    <tr>\n",
       "      <th>35</th>\n",
       "      <td>0.0014</td>\n",
       "      <td>4.899792e-04</td>\n",
       "      <td>0.0004</td>\n",
       "      <td>0.00049</td>\n",
       "      <td>100</td>\n",
       "      <td>100</td>\n",
       "      <td>rbf</td>\n",
       "      <td>{'C': 100, 'gamma': 100, 'kernel': 'rbf'}</td>\n",
       "      <td>0.541667</td>\n",
       "      <td>0.521739</td>\n",
       "      <td>0.590909</td>\n",
       "      <td>0.590909</td>\n",
       "      <td>0.619048</td>\n",
       "      <td>0.571429</td>\n",
       "      <td>0.035652</td>\n",
       "      <td>24</td>\n",
       "    </tr>\n",
       "    <tr>\n",
       "      <th>36</th>\n",
       "      <td>0.0006</td>\n",
       "      <td>4.900182e-04</td>\n",
       "      <td>0.0002</td>\n",
       "      <td>0.00040</td>\n",
       "      <td>0.001</td>\n",
       "      <td>NaN</td>\n",
       "      <td>linear</td>\n",
       "      <td>{'C': 0.001, 'kernel': 'linear'}</td>\n",
       "      <td>0.375000</td>\n",
       "      <td>0.347826</td>\n",
       "      <td>0.363636</td>\n",
       "      <td>0.363636</td>\n",
       "      <td>0.380952</td>\n",
       "      <td>0.366071</td>\n",
       "      <td>0.011371</td>\n",
       "      <td>27</td>\n",
       "    </tr>\n",
       "    <tr>\n",
       "      <th>37</th>\n",
       "      <td>0.0006</td>\n",
       "      <td>4.899792e-04</td>\n",
       "      <td>0.0002</td>\n",
       "      <td>0.00040</td>\n",
       "      <td>0.01</td>\n",
       "      <td>NaN</td>\n",
       "      <td>linear</td>\n",
       "      <td>{'C': 0.01, 'kernel': 'linear'}</td>\n",
       "      <td>0.916667</td>\n",
       "      <td>0.826087</td>\n",
       "      <td>0.818182</td>\n",
       "      <td>0.772727</td>\n",
       "      <td>0.904762</td>\n",
       "      <td>0.848214</td>\n",
       "      <td>0.054778</td>\n",
       "      <td>21</td>\n",
       "    </tr>\n",
       "    <tr>\n",
       "      <th>38</th>\n",
       "      <td>0.0000</td>\n",
       "      <td>0.000000e+00</td>\n",
       "      <td>0.0000</td>\n",
       "      <td>0.00000</td>\n",
       "      <td>0.1</td>\n",
       "      <td>NaN</td>\n",
       "      <td>linear</td>\n",
       "      <td>{'C': 0.1, 'kernel': 'linear'}</td>\n",
       "      <td>0.958333</td>\n",
       "      <td>0.913043</td>\n",
       "      <td>1.000000</td>\n",
       "      <td>0.909091</td>\n",
       "      <td>0.952381</td>\n",
       "      <td>0.946429</td>\n",
       "      <td>0.033218</td>\n",
       "      <td>11</td>\n",
       "    </tr>\n",
       "    <tr>\n",
       "      <th>39</th>\n",
       "      <td>0.0000</td>\n",
       "      <td>0.000000e+00</td>\n",
       "      <td>0.0008</td>\n",
       "      <td>0.00040</td>\n",
       "      <td>1</td>\n",
       "      <td>NaN</td>\n",
       "      <td>linear</td>\n",
       "      <td>{'C': 1, 'kernel': 'linear'}</td>\n",
       "      <td>1.000000</td>\n",
       "      <td>0.956522</td>\n",
       "      <td>1.000000</td>\n",
       "      <td>0.954545</td>\n",
       "      <td>0.952381</td>\n",
       "      <td>0.973214</td>\n",
       "      <td>0.022400</td>\n",
       "      <td>1</td>\n",
       "    </tr>\n",
       "    <tr>\n",
       "      <th>40</th>\n",
       "      <td>0.0002</td>\n",
       "      <td>4.000664e-04</td>\n",
       "      <td>0.0008</td>\n",
       "      <td>0.00040</td>\n",
       "      <td>10</td>\n",
       "      <td>NaN</td>\n",
       "      <td>linear</td>\n",
       "      <td>{'C': 10, 'kernel': 'linear'}</td>\n",
       "      <td>0.958333</td>\n",
       "      <td>1.000000</td>\n",
       "      <td>1.000000</td>\n",
       "      <td>0.909091</td>\n",
       "      <td>0.952381</td>\n",
       "      <td>0.964286</td>\n",
       "      <td>0.033839</td>\n",
       "      <td>3</td>\n",
       "    </tr>\n",
       "    <tr>\n",
       "      <th>41</th>\n",
       "      <td>0.0008</td>\n",
       "      <td>4.000664e-04</td>\n",
       "      <td>0.0002</td>\n",
       "      <td>0.00040</td>\n",
       "      <td>100</td>\n",
       "      <td>NaN</td>\n",
       "      <td>linear</td>\n",
       "      <td>{'C': 100, 'kernel': 'linear'}</td>\n",
       "      <td>0.958333</td>\n",
       "      <td>1.000000</td>\n",
       "      <td>1.000000</td>\n",
       "      <td>0.909091</td>\n",
       "      <td>0.952381</td>\n",
       "      <td>0.964286</td>\n",
       "      <td>0.033839</td>\n",
       "      <td>3</td>\n",
       "    </tr>\n",
       "  </tbody>\n",
       "</table>\n",
       "</div>"
      ],
      "text/plain": [
       "    mean_fit_time  std_fit_time  mean_score_time  std_score_time param_C  \\\n",
       "0          0.0018  4.000902e-04           0.0002         0.00040   0.001   \n",
       "1          0.0012  7.484557e-04           0.0004         0.00049   0.001   \n",
       "2          0.0008  4.000902e-04           0.0002         0.00040   0.001   \n",
       "3          0.0008  4.001141e-04           0.0002         0.00040   0.001   \n",
       "4          0.0012  4.000664e-04           0.0002         0.00040   0.001   \n",
       "5          0.0010  9.536743e-08           0.0002         0.00040   0.001   \n",
       "6          0.0008  4.000902e-04           0.0002         0.00040    0.01   \n",
       "7          0.0006  4.899792e-04           0.0006         0.00049    0.01   \n",
       "8          0.0008  4.000664e-04           0.0002         0.00040    0.01   \n",
       "9          0.0008  4.000902e-04           0.0002         0.00040    0.01   \n",
       "10         0.0012  4.000425e-04           0.0002         0.00040    0.01   \n",
       "11         0.0012  4.002571e-04           0.0000         0.00000    0.01   \n",
       "12         0.0006  4.899792e-04           0.0004         0.00049     0.1   \n",
       "13         0.0006  4.900182e-04           0.0004         0.00049     0.1   \n",
       "14         0.0008  4.000664e-04           0.0002         0.00040     0.1   \n",
       "15         0.0008  4.000902e-04           0.0002         0.00040     0.1   \n",
       "16         0.0010  9.536743e-08           0.0002         0.00040     0.1   \n",
       "17         0.0016  4.900182e-04           0.0000         0.00000     0.1   \n",
       "18         0.0006  4.900182e-04           0.0004         0.00049       1   \n",
       "19         0.0004  4.899792e-04           0.0002         0.00040       1   \n",
       "20         0.0008  4.000664e-04           0.0002         0.00040       1   \n",
       "21         0.0004  4.899792e-04           0.0004         0.00049       1   \n",
       "22         0.0014  4.900376e-04           0.0002         0.00040       1   \n",
       "23         0.0016  4.900182e-04           0.0002         0.00040       1   \n",
       "24         0.0006  4.900182e-04           0.0004         0.00049      10   \n",
       "25         0.0002  4.000664e-04           0.0000         0.00000      10   \n",
       "26         0.0000  0.000000e+00           0.0000         0.00000      10   \n",
       "27         0.0006  4.899792e-04           0.0004         0.00049      10   \n",
       "28         0.0010  0.000000e+00           0.0004         0.00049      10   \n",
       "29         0.0016  4.900182e-04           0.0004         0.00049      10   \n",
       "30         0.0006  4.899792e-04           0.0000         0.00000     100   \n",
       "31         0.0002  4.000664e-04           0.0000         0.00000     100   \n",
       "32         0.0010  0.000000e+00           0.0000         0.00000     100   \n",
       "33         0.0004  4.899792e-04           0.0004         0.00049     100   \n",
       "34         0.0012  4.000425e-04           0.0002         0.00040     100   \n",
       "35         0.0014  4.899792e-04           0.0004         0.00049     100   \n",
       "36         0.0006  4.900182e-04           0.0002         0.00040   0.001   \n",
       "37         0.0006  4.899792e-04           0.0002         0.00040    0.01   \n",
       "38         0.0000  0.000000e+00           0.0000         0.00000     0.1   \n",
       "39         0.0000  0.000000e+00           0.0008         0.00040       1   \n",
       "40         0.0002  4.000664e-04           0.0008         0.00040      10   \n",
       "41         0.0008  4.000664e-04           0.0002         0.00040     100   \n",
       "\n",
       "   param_gamma param_kernel                                         params  \\\n",
       "0        0.001          rbf  {'C': 0.001, 'gamma': 0.001, 'kernel': 'rbf'}   \n",
       "1         0.01          rbf   {'C': 0.001, 'gamma': 0.01, 'kernel': 'rbf'}   \n",
       "2          0.1          rbf    {'C': 0.001, 'gamma': 0.1, 'kernel': 'rbf'}   \n",
       "3            1          rbf      {'C': 0.001, 'gamma': 1, 'kernel': 'rbf'}   \n",
       "4           10          rbf     {'C': 0.001, 'gamma': 10, 'kernel': 'rbf'}   \n",
       "5          100          rbf    {'C': 0.001, 'gamma': 100, 'kernel': 'rbf'}   \n",
       "6        0.001          rbf   {'C': 0.01, 'gamma': 0.001, 'kernel': 'rbf'}   \n",
       "7         0.01          rbf    {'C': 0.01, 'gamma': 0.01, 'kernel': 'rbf'}   \n",
       "8          0.1          rbf     {'C': 0.01, 'gamma': 0.1, 'kernel': 'rbf'}   \n",
       "9            1          rbf       {'C': 0.01, 'gamma': 1, 'kernel': 'rbf'}   \n",
       "10          10          rbf      {'C': 0.01, 'gamma': 10, 'kernel': 'rbf'}   \n",
       "11         100          rbf     {'C': 0.01, 'gamma': 100, 'kernel': 'rbf'}   \n",
       "12       0.001          rbf    {'C': 0.1, 'gamma': 0.001, 'kernel': 'rbf'}   \n",
       "13        0.01          rbf     {'C': 0.1, 'gamma': 0.01, 'kernel': 'rbf'}   \n",
       "14         0.1          rbf      {'C': 0.1, 'gamma': 0.1, 'kernel': 'rbf'}   \n",
       "15           1          rbf        {'C': 0.1, 'gamma': 1, 'kernel': 'rbf'}   \n",
       "16          10          rbf       {'C': 0.1, 'gamma': 10, 'kernel': 'rbf'}   \n",
       "17         100          rbf      {'C': 0.1, 'gamma': 100, 'kernel': 'rbf'}   \n",
       "18       0.001          rbf      {'C': 1, 'gamma': 0.001, 'kernel': 'rbf'}   \n",
       "19        0.01          rbf       {'C': 1, 'gamma': 0.01, 'kernel': 'rbf'}   \n",
       "20         0.1          rbf        {'C': 1, 'gamma': 0.1, 'kernel': 'rbf'}   \n",
       "21           1          rbf          {'C': 1, 'gamma': 1, 'kernel': 'rbf'}   \n",
       "22          10          rbf         {'C': 1, 'gamma': 10, 'kernel': 'rbf'}   \n",
       "23         100          rbf        {'C': 1, 'gamma': 100, 'kernel': 'rbf'}   \n",
       "24       0.001          rbf     {'C': 10, 'gamma': 0.001, 'kernel': 'rbf'}   \n",
       "25        0.01          rbf      {'C': 10, 'gamma': 0.01, 'kernel': 'rbf'}   \n",
       "26         0.1          rbf       {'C': 10, 'gamma': 0.1, 'kernel': 'rbf'}   \n",
       "27           1          rbf         {'C': 10, 'gamma': 1, 'kernel': 'rbf'}   \n",
       "28          10          rbf        {'C': 10, 'gamma': 10, 'kernel': 'rbf'}   \n",
       "29         100          rbf       {'C': 10, 'gamma': 100, 'kernel': 'rbf'}   \n",
       "30       0.001          rbf    {'C': 100, 'gamma': 0.001, 'kernel': 'rbf'}   \n",
       "31        0.01          rbf     {'C': 100, 'gamma': 0.01, 'kernel': 'rbf'}   \n",
       "32         0.1          rbf      {'C': 100, 'gamma': 0.1, 'kernel': 'rbf'}   \n",
       "33           1          rbf        {'C': 100, 'gamma': 1, 'kernel': 'rbf'}   \n",
       "34          10          rbf       {'C': 100, 'gamma': 10, 'kernel': 'rbf'}   \n",
       "35         100          rbf      {'C': 100, 'gamma': 100, 'kernel': 'rbf'}   \n",
       "36         NaN       linear               {'C': 0.001, 'kernel': 'linear'}   \n",
       "37         NaN       linear                {'C': 0.01, 'kernel': 'linear'}   \n",
       "38         NaN       linear                 {'C': 0.1, 'kernel': 'linear'}   \n",
       "39         NaN       linear                   {'C': 1, 'kernel': 'linear'}   \n",
       "40         NaN       linear                  {'C': 10, 'kernel': 'linear'}   \n",
       "41         NaN       linear                 {'C': 100, 'kernel': 'linear'}   \n",
       "\n",
       "    split0_test_score  split1_test_score  split2_test_score  \\\n",
       "0            0.375000           0.347826           0.363636   \n",
       "1            0.375000           0.347826           0.363636   \n",
       "2            0.375000           0.347826           0.363636   \n",
       "3            0.375000           0.347826           0.363636   \n",
       "4            0.375000           0.347826           0.363636   \n",
       "5            0.375000           0.347826           0.363636   \n",
       "6            0.375000           0.347826           0.363636   \n",
       "7            0.375000           0.347826           0.363636   \n",
       "8            0.375000           0.347826           0.363636   \n",
       "9            0.375000           0.347826           0.363636   \n",
       "10           0.375000           0.347826           0.363636   \n",
       "11           0.375000           0.347826           0.363636   \n",
       "12           0.375000           0.347826           0.363636   \n",
       "13           0.708333           0.695652           0.681818   \n",
       "14           0.916667           0.913043           1.000000   \n",
       "15           1.000000           0.913043           1.000000   \n",
       "16           0.375000           0.347826           0.363636   \n",
       "17           0.375000           0.347826           0.363636   \n",
       "18           0.708333           0.695652           0.681818   \n",
       "19           0.875000           0.913043           1.000000   \n",
       "20           1.000000           0.956522           1.000000   \n",
       "21           0.916667           0.956522           1.000000   \n",
       "22           0.875000           0.956522           1.000000   \n",
       "23           0.500000           0.434783           0.545455   \n",
       "24           0.875000           0.913043           1.000000   \n",
       "25           1.000000           0.956522           1.000000   \n",
       "26           0.958333           0.956522           1.000000   \n",
       "27           0.916667           0.956522           1.000000   \n",
       "28           0.875000           0.956522           1.000000   \n",
       "29           0.541667           0.521739           0.590909   \n",
       "30           1.000000           0.956522           1.000000   \n",
       "31           1.000000           0.956522           1.000000   \n",
       "32           0.958333           1.000000           1.000000   \n",
       "33           0.916667           1.000000           1.000000   \n",
       "34           0.875000           0.956522           1.000000   \n",
       "35           0.541667           0.521739           0.590909   \n",
       "36           0.375000           0.347826           0.363636   \n",
       "37           0.916667           0.826087           0.818182   \n",
       "38           0.958333           0.913043           1.000000   \n",
       "39           1.000000           0.956522           1.000000   \n",
       "40           0.958333           1.000000           1.000000   \n",
       "41           0.958333           1.000000           1.000000   \n",
       "\n",
       "    split3_test_score  split4_test_score  mean_test_score  std_test_score  \\\n",
       "0            0.363636           0.380952         0.366071        0.011371   \n",
       "1            0.363636           0.380952         0.366071        0.011371   \n",
       "2            0.363636           0.380952         0.366071        0.011371   \n",
       "3            0.363636           0.380952         0.366071        0.011371   \n",
       "4            0.363636           0.380952         0.366071        0.011371   \n",
       "5            0.363636           0.380952         0.366071        0.011371   \n",
       "6            0.363636           0.380952         0.366071        0.011371   \n",
       "7            0.363636           0.380952         0.366071        0.011371   \n",
       "8            0.363636           0.380952         0.366071        0.011371   \n",
       "9            0.363636           0.380952         0.366071        0.011371   \n",
       "10           0.363636           0.380952         0.366071        0.011371   \n",
       "11           0.363636           0.380952         0.366071        0.011371   \n",
       "12           0.363636           0.380952         0.366071        0.011371   \n",
       "13           0.681818           0.714286         0.696429        0.013196   \n",
       "14           0.863636           0.904762         0.919643        0.044010   \n",
       "15           0.909091           0.952381         0.955357        0.040104   \n",
       "16           0.363636           0.380952         0.366071        0.011371   \n",
       "17           0.363636           0.380952         0.366071        0.011371   \n",
       "18           0.681818           0.714286         0.696429        0.013196   \n",
       "19           0.909091           0.952381         0.928571        0.042983   \n",
       "20           0.909091           0.952381         0.964286        0.034077   \n",
       "21           0.909091           0.952381         0.946429        0.032480   \n",
       "22           0.818182           0.952381         0.919643        0.064791   \n",
       "23           0.500000           0.571429         0.508929        0.046435   \n",
       "24           0.909091           0.952381         0.928571        0.042983   \n",
       "25           0.909091           0.952381         0.964286        0.034077   \n",
       "26           0.954545           0.952381         0.964286        0.017769   \n",
       "27           0.863636           0.952381         0.937500        0.045253   \n",
       "28           0.818182           0.952381         0.919643        0.064791   \n",
       "29           0.590909           0.619048         0.571429        0.035652   \n",
       "30           0.909091           0.952381         0.964286        0.034077   \n",
       "31           0.954545           0.952381         0.973214        0.022400   \n",
       "32           0.863636           0.952381         0.955357        0.049566   \n",
       "33           0.863636           0.952381         0.946429        0.051923   \n",
       "34           0.818182           0.952381         0.919643        0.064791   \n",
       "35           0.590909           0.619048         0.571429        0.035652   \n",
       "36           0.363636           0.380952         0.366071        0.011371   \n",
       "37           0.772727           0.904762         0.848214        0.054778   \n",
       "38           0.909091           0.952381         0.946429        0.033218   \n",
       "39           0.954545           0.952381         0.973214        0.022400   \n",
       "40           0.909091           0.952381         0.964286        0.033839   \n",
       "41           0.909091           0.952381         0.964286        0.033839   \n",
       "\n",
       "    rank_test_score  \n",
       "0                27  \n",
       "1                27  \n",
       "2                27  \n",
       "3                27  \n",
       "4                27  \n",
       "5                27  \n",
       "6                27  \n",
       "7                27  \n",
       "8                27  \n",
       "9                27  \n",
       "10               27  \n",
       "11               27  \n",
       "12               27  \n",
       "13               22  \n",
       "14               17  \n",
       "15                9  \n",
       "16               27  \n",
       "17               27  \n",
       "18               22  \n",
       "19               15  \n",
       "20                3  \n",
       "21               11  \n",
       "22               17  \n",
       "23               26  \n",
       "24               15  \n",
       "25                3  \n",
       "26                3  \n",
       "27               14  \n",
       "28               17  \n",
       "29               24  \n",
       "30                3  \n",
       "31                1  \n",
       "32                9  \n",
       "33               11  \n",
       "34               17  \n",
       "35               24  \n",
       "36               27  \n",
       "37               21  \n",
       "38               11  \n",
       "39                1  \n",
       "40                3  \n",
       "41                3  "
      ]
     },
     "execution_count": 5,
     "metadata": {},
     "output_type": "execute_result"
    }
   ],
   "source": [
    "import pandas as pd\n",
    "results=pd.DataFrame(grid_search.cv_results_)\n",
    "results"
   ]
  },
  {
   "cell_type": "code",
   "execution_count": 6,
   "metadata": {},
   "outputs": [
    {
     "data": {
      "text/html": [
       "<div>\n",
       "<style scoped>\n",
       "    .dataframe tbody tr th:only-of-type {\n",
       "        vertical-align: middle;\n",
       "    }\n",
       "\n",
       "    .dataframe tbody tr th {\n",
       "        vertical-align: top;\n",
       "    }\n",
       "\n",
       "    .dataframe thead th {\n",
       "        text-align: right;\n",
       "    }\n",
       "</style>\n",
       "<table border=\"1\" class=\"dataframe\">\n",
       "  <thead>\n",
       "    <tr style=\"text-align: right;\">\n",
       "      <th></th>\n",
       "      <th>mean_fit_time</th>\n",
       "      <th>std_fit_time</th>\n",
       "      <th>mean_score_time</th>\n",
       "      <th>std_score_time</th>\n",
       "      <th>param_C</th>\n",
       "      <th>param_gamma</th>\n",
       "      <th>param_kernel</th>\n",
       "      <th>params</th>\n",
       "      <th>split0_test_score</th>\n",
       "      <th>split1_test_score</th>\n",
       "      <th>split2_test_score</th>\n",
       "      <th>split3_test_score</th>\n",
       "      <th>split4_test_score</th>\n",
       "      <th>mean_test_score</th>\n",
       "      <th>std_test_score</th>\n",
       "      <th>rank_test_score</th>\n",
       "    </tr>\n",
       "  </thead>\n",
       "  <tbody>\n",
       "    <tr>\n",
       "      <th>31</th>\n",
       "      <td>0.0002</td>\n",
       "      <td>0.0004</td>\n",
       "      <td>0.0000</td>\n",
       "      <td>0.0000</td>\n",
       "      <td>100</td>\n",
       "      <td>0.01</td>\n",
       "      <td>rbf</td>\n",
       "      <td>{'C': 100, 'gamma': 0.01, 'kernel': 'rbf'}</td>\n",
       "      <td>1.0</td>\n",
       "      <td>0.956522</td>\n",
       "      <td>1.0</td>\n",
       "      <td>0.954545</td>\n",
       "      <td>0.952381</td>\n",
       "      <td>0.973214</td>\n",
       "      <td>0.0224</td>\n",
       "      <td>1</td>\n",
       "    </tr>\n",
       "    <tr>\n",
       "      <th>39</th>\n",
       "      <td>0.0000</td>\n",
       "      <td>0.0000</td>\n",
       "      <td>0.0008</td>\n",
       "      <td>0.0004</td>\n",
       "      <td>1</td>\n",
       "      <td>NaN</td>\n",
       "      <td>linear</td>\n",
       "      <td>{'C': 1, 'kernel': 'linear'}</td>\n",
       "      <td>1.0</td>\n",
       "      <td>0.956522</td>\n",
       "      <td>1.0</td>\n",
       "      <td>0.954545</td>\n",
       "      <td>0.952381</td>\n",
       "      <td>0.973214</td>\n",
       "      <td>0.0224</td>\n",
       "      <td>1</td>\n",
       "    </tr>\n",
       "  </tbody>\n",
       "</table>\n",
       "</div>"
      ],
      "text/plain": [
       "    mean_fit_time  std_fit_time  mean_score_time  std_score_time param_C  \\\n",
       "31         0.0002        0.0004           0.0000          0.0000     100   \n",
       "39         0.0000        0.0000           0.0008          0.0004       1   \n",
       "\n",
       "   param_gamma param_kernel                                      params  \\\n",
       "31        0.01          rbf  {'C': 100, 'gamma': 0.01, 'kernel': 'rbf'}   \n",
       "39         NaN       linear                {'C': 1, 'kernel': 'linear'}   \n",
       "\n",
       "    split0_test_score  split1_test_score  split2_test_score  \\\n",
       "31                1.0           0.956522                1.0   \n",
       "39                1.0           0.956522                1.0   \n",
       "\n",
       "    split3_test_score  split4_test_score  mean_test_score  std_test_score  \\\n",
       "31           0.954545           0.952381         0.973214          0.0224   \n",
       "39           0.954545           0.952381         0.973214          0.0224   \n",
       "\n",
       "    rank_test_score  \n",
       "31                1  \n",
       "39                1  "
      ]
     },
     "execution_count": 6,
     "metadata": {},
     "output_type": "execute_result"
    }
   ],
   "source": [
    "results[results['rank_test_score']==1]"
   ]
  },
  {
   "cell_type": "markdown",
   "metadata": {},
   "source": [
    "# 5.2.3.3使用不同的交叉验证策略进行网格搜索"
   ]
  },
  {
   "cell_type": "markdown",
   "metadata": {},
   "source": [
    "与cross_val_score类似，gridsearchcv对分类问题默认分层k折交叉验证，对回归问题默认使用k折交叉验证。实际可以传入任何交叉验证分离器作为gridsearchcv的cv参数。如果只想将数据单次划分为训练集和验证集，你可以使用shufflesplit和stratefiedshufflesplit，设置n_splits=1,这对于非常大的数据或非常慢的模型有帮助"
   ]
  },
  {
   "cell_type": "markdown",
   "metadata": {},
   "source": [
    "# 5.3评估指标与评分"
   ]
  },
  {
   "cell_type": "markdown",
   "metadata": {},
   "source": [
    "# 5.3.1牢记最终目标"
   ]
  },
  {
   "cell_type": "markdown",
   "metadata": {},
   "source": [
    "在选择模型或调参时，应该选择对商业指标具有最大正面影响的模型或参数值。"
   ]
  },
  {
   "cell_type": "markdown",
   "metadata": {},
   "source": [
    "# 5.3.2二分类指标"
   ]
  },
  {
   "cell_type": "markdown",
   "metadata": {},
   "source": [
    "对于2分类问题，我们通常会说正类(positive class)和反类(negative class),正类是我们要寻找的类"
   ]
  },
  {
   "cell_type": "markdown",
   "metadata": {},
   "source": [
    "错误的正类预测叫做假正例，错误的反类预测叫做假反例，假正例和假反例造成的结果很少相同，所以精度并不能很好地度量预测性能"
   ]
  },
  {
   "cell_type": "markdown",
   "metadata": {},
   "source": [
    "2.不平衡数据集 如果在两个类别中，一个类别出现的次数比另一个多很多，那么错误类型将发挥重要作用"
   ]
  },
  {
   "cell_type": "code",
   "execution_count": 45,
   "metadata": {},
   "outputs": [],
   "source": [
    "import warnings;warnings.simplefilter('ignore')\n",
    "from sklearn.datasets import load_digits\n",
    "digits=load_digits()\n",
    "y=digits.target==9\n",
    "from sklearn.model_selection import train_test_split\n",
    "x_train, x_test, y_train, y_test = train_test_split(digits.data, y, random_state=0)"
   ]
  },
  {
   "cell_type": "code",
   "execution_count": 47,
   "metadata": {},
   "outputs": [
    {
     "data": {
      "text/plain": [
       "0.8955555555555555"
      ]
     },
     "execution_count": 47,
     "metadata": {},
     "output_type": "execute_result"
    }
   ],
   "source": [
    "#1 始终预测多数类，我们得到了接近90%的精度却没有学到任何内容。\n",
    "from sklearn.dummy import DummyClassifier\n",
    "dummymajor=DummyClassifier(strategy='most_frequent').fit(x_train,y_train)\n",
    "pred_mostfrequent=dummymajor.predict(x_test)\n",
    "dummymajor.score(x_test,y_test)"
   ]
  },
  {
   "cell_type": "code",
   "execution_count": 48,
   "metadata": {},
   "outputs": [
    {
     "data": {
      "text/plain": [
       "0.9177777777777778"
      ]
     },
     "execution_count": 48,
     "metadata": {},
     "output_type": "execute_result"
    }
   ],
   "source": [
    "#2\n",
    "from sklearn.tree import DecisionTreeClassifier\n",
    "tree=DecisionTreeClassifier(max_depth=2).fit(x_train,y_train)\n",
    "pred_tree=tree.predict(x_test)\n",
    "tree.score(x_test,y_test)"
   ]
  },
  {
   "cell_type": "code",
   "execution_count": 51,
   "metadata": {},
   "outputs": [
    {
     "data": {
      "text/plain": [
       "0.7933333333333333"
      ]
     },
     "execution_count": 51,
     "metadata": {},
     "output_type": "execute_result"
    }
   ],
   "source": [
    "#3\n",
    "dummy=DummyClassifier().fit(x_train,y_train)\n",
    "pred_dummy=dummy.predict(x_test)\n",
    "dummy.score(x_test,y_test)"
   ]
  },
  {
   "cell_type": "code",
   "execution_count": 52,
   "metadata": {},
   "outputs": [
    {
     "data": {
      "text/plain": [
       "0.9777777777777777"
      ]
     },
     "execution_count": 52,
     "metadata": {},
     "output_type": "execute_result"
    }
   ],
   "source": [
    "#4\n",
    "import warnings;warnings.simplefilter('ignore')\n",
    "from sklearn.model_selection import train_test_split\n",
    "x_train, x_test, y_train, y_test = train_test_split(digits.data, y, random_state=0)\n",
    "from sklearn.linear_model import LogisticRegression\n",
    "lr=LogisticRegression(C=0.1).fit(x_train,y_train)\n",
    "pred_lr=lr.predict(x_test)\n",
    "lr.score(x_test,y_test)"
   ]
  },
  {
   "cell_type": "markdown",
   "metadata": {},
   "source": [
    "这里的问题在于，要想对这种不平衡数据的预测性能进行量化，精度并不是一种合适的度量"
   ]
  },
  {
   "cell_type": "markdown",
   "metadata": {},
   "source": [
    "3.混淆矩阵\n",
    "对于二分类问题的评估结果，一种最全面的表示方法是使用混淆矩阵confusion matrix"
   ]
  },
  {
   "cell_type": "code",
   "execution_count": 17,
   "metadata": {},
   "outputs": [
    {
     "data": {
      "text/plain": [
       "array([[401,   2],\n",
       "       [  8,  39]], dtype=int64)"
      ]
     },
     "execution_count": 17,
     "metadata": {},
     "output_type": "execute_result"
    }
   ],
   "source": [
    "from sklearn.metrics import confusion_matrix\n",
    "confusion=confusion_matrix(y_test,pred_lr)\n",
    "confusion"
   ]
  },
  {
   "cell_type": "markdown",
   "metadata": {},
   "source": [
    "其中行对应于真实的类别，列对应于预测的类别"
   ]
  },
  {
   "cell_type": "code",
   "execution_count": 18,
   "metadata": {},
   "outputs": [
    {
     "name": "stdout",
     "output_type": "stream",
     "text": [
      "mostfrquent:\n",
      "[[403   0]\n",
      " [ 47   0]]\n",
      "dummy:\n",
      "[[361  42]\n",
      " [ 43   4]]\n",
      "tree:\n",
      "[[390  13]\n",
      " [ 24  23]]\n",
      "lr:\n",
      "[[401   2]\n",
      " [  8  39]]\n"
     ]
    }
   ],
   "source": [
    "print(\"mostfrquent:\")\n",
    "print(confusion_matrix(y_test,pred_mostfrequent))\n",
    "print('dummy:')\n",
    "print(confusion_matrix(y_test,pred_dummy))\n",
    "print(\"tree:\")\n",
    "print(confusion_matrix(y_test,pred_tree))\n",
    "print(\"lr:\")\n",
    "print(confusion)"
   ]
  },
  {
   "cell_type": "markdown",
   "metadata": {},
   "source": [
    "mostfrequent全部预测反例，根本不预测正例。\n",
    "dummy假正例比真正例还多，正例预测不理想。\n",
    "tree和lr预测比较合理，但tree在正例预测结果还是不理想。"
   ]
  },
  {
   "cell_type": "markdown",
   "metadata": {},
   "source": [
    "准确率，召回率，f分数"
   ]
  },
  {
   "cell_type": "code",
   "execution_count": 20,
   "metadata": {},
   "outputs": [
    {
     "name": "stdout",
     "output_type": "stream",
     "text": [
      "most frequent:0.0\n",
      "dummy:0.08602150537634408\n",
      "tree:0.5542168674698795\n",
      "lr:0.8863636363636364\n"
     ]
    }
   ],
   "source": [
    "#准确率：度量的是被预测为正例的样本中有多少是真正的正例 precision=tp/(tp+fp) 限制假正例数量\n",
    "#召回率：度量的是正例的样本中有多少被预测为正例 recall=tp/(tp+fn) 避免假反例\n",
    "#f分数/f度量：准确率和召回率的调和平均 它对于不平衡的二分类数据集来说是一种比精度更好的度量 \n",
    "#f=2*precision*recall/（precision+recall）\n",
    "from sklearn.metrics import f1_score\n",
    "print(\"most frequent:\"+str(f1_score(y_test,pred_mostfrequent)))\n",
    "print(\"dummy:\"+str(f1_score(y_test,pred_dummy)))\n",
    "print(\"tree:\"+str(f1_score(y_test,pred_tree)))\n",
    "print(\"lr:\"+str(f1_score(y_test,pred_lr)))"
   ]
  },
  {
   "cell_type": "markdown",
   "metadata": {},
   "source": [
    "f分数比精度更加符合我们对好模型的直觉，然而f分数的一个缺点是比精度更加难以解释"
   ]
  },
  {
   "cell_type": "code",
   "execution_count": 49,
   "metadata": {
    "scrolled": true
   },
   "outputs": [
    {
     "name": "stdout",
     "output_type": "stream",
     "text": [
      "              precision    recall  f1-score   support\n",
      "\n",
      "    not nine       0.90      1.00      0.94       403\n",
      "        nine       0.00      0.00      0.00        47\n",
      "\n",
      "    accuracy                           0.90       450\n",
      "   macro avg       0.45      0.50      0.47       450\n",
      "weighted avg       0.80      0.90      0.85       450\n",
      "\n"
     ]
    }
   ],
   "source": [
    "#classification_report可以对准确率，召回率，f分数做一个全面的总结\n",
    "from sklearn.metrics import classification_report\n",
    "print(classification_report(y_test,pred_mostfrequent,target_names=[\"not nine\",\"nine\"]))"
   ]
  },
  {
   "cell_type": "code",
   "execution_count": 53,
   "metadata": {},
   "outputs": [
    {
     "name": "stdout",
     "output_type": "stream",
     "text": [
      "              precision    recall  f1-score   support\n",
      "\n",
      "    not nine       0.90      0.90      0.90       403\n",
      "        nine       0.13      0.13      0.13        47\n",
      "\n",
      "    accuracy                           0.82       450\n",
      "   macro avg       0.51      0.51      0.51       450\n",
      "weighted avg       0.82      0.82      0.82       450\n",
      "\n",
      "              precision    recall  f1-score   support\n",
      "\n",
      "    not nine       0.98      1.00      0.99       403\n",
      "        nine       0.95      0.83      0.89        47\n",
      "\n",
      "    accuracy                           0.98       450\n",
      "   macro avg       0.97      0.91      0.94       450\n",
      "weighted avg       0.98      0.98      0.98       450\n",
      "\n"
     ]
    }
   ],
   "source": [
    "print(classification_report(y_test,pred_dummy,target_names=[\"not nine\",\"nine\"]))\n",
    "print(classification_report(y_test,pred_lr,target_names=[\"not nine\",\"nine\"]))"
   ]
  },
  {
   "cell_type": "markdown",
   "metadata": {},
   "source": [
    "选择哪个指标作为正类对指标有很大影响，不过同时查看所有数字可以给出非常准确的图像，我们可以清楚地看到logistic回归模型的优势"
   ]
  },
  {
   "cell_type": "markdown",
   "metadata": {},
   "source": [
    "4.考虑不确定性\n",
    "大多数分类其提供了一个decision function或predict proba方法来评估预测的不确定度，在二分类问题中我们使用0作为决策函数的阀值，0.5作为predict proba阀值"
   ]
  },
  {
   "cell_type": "markdown",
   "metadata": {},
   "source": [
    "默认情况下，decision function值大于0的点将被划为类别1，如果我们希望将更多的点划为类别1，需要减小阀值"
   ]
  },
  {
   "cell_type": "code",
   "execution_count": 88,
   "metadata": {},
   "outputs": [],
   "source": [
    "X, y = make_blobs(n_samples=(400, 50), centers=None,cluster_std=[7.0, 2],random_state=22)\n",
    "X_train, X_test, y_train, y_test = train_test_split(X, y, random_state=0)\n",
    "svc = SVC(gamma=.05).fit(X_train, y_train)"
   ]
  },
  {
   "cell_type": "code",
   "execution_count": 89,
   "metadata": {},
   "outputs": [
    {
     "name": "stdout",
     "output_type": "stream",
     "text": [
      "              precision    recall  f1-score   support\n",
      "\n",
      "           0       0.97      0.89      0.93       104\n",
      "           1       0.35      0.67      0.46         9\n",
      "\n",
      "    accuracy                           0.88       113\n",
      "   macro avg       0.66      0.78      0.70       113\n",
      "weighted avg       0.92      0.88      0.89       113\n",
      "\n"
     ]
    }
   ],
   "source": [
    "print(classification_report(y_test, svc.predict(X_test)))"
   ]
  },
  {
   "cell_type": "markdown",
   "metadata": {},
   "source": [
    "假设在我们的应用中，类别1具有高召回率更加重要，我们可以减小阀值"
   ]
  },
  {
   "cell_type": "code",
   "execution_count": 91,
   "metadata": {},
   "outputs": [
    {
     "name": "stdout",
     "output_type": "stream",
     "text": [
      "              precision    recall  f1-score   support\n",
      "\n",
      "           0       1.00      0.82      0.90       104\n",
      "           1       0.32      1.00      0.49         9\n",
      "\n",
      "    accuracy                           0.83       113\n",
      "   macro avg       0.66      0.91      0.69       113\n",
      "weighted avg       0.95      0.83      0.87       113\n",
      "\n"
     ]
    }
   ],
   "source": [
    "y_pred_lower_threshold=svc.decision_function(X_test)>-0.8\n",
    "print(classification_report(y_test, y_pred_lower_threshold))"
   ]
  },
  {
   "cell_type": "markdown",
   "metadata": {},
   "source": [
    "由于decision function的取值可能在任意范围内，所以很难提供关于如何选取阀值的经验法则"
   ]
  },
  {
   "cell_type": "markdown",
   "metadata": {},
   "source": [
    "对于实现了predict_proba方法的模型来说，选择阀值可能更简单，因为predict proba的输出固定在0-1之间"
   ]
  },
  {
   "cell_type": "markdown",
   "metadata": {},
   "source": [
    "5.准确率-召回率曲线\n",
    "对于分类器设置要求（比如90%的召回率）通常被称为设置工作点，同时查看所有可能的阀值或准确率和召回率的所有可能折中。利用一种准确率-召回率曲线（precision-recall curve）的工具可以做到这一点"
   ]
  },
  {
   "cell_type": "code",
   "execution_count": 62,
   "metadata": {},
   "outputs": [
    {
     "data": {
      "text/plain": [
       "<matplotlib.legend.Legend at 0xc98ced0>"
      ]
     },
     "execution_count": 62,
     "metadata": {},
     "output_type": "execute_result"
    },
    {
     "data": {
      "image/png": "[encoded data removed]",
      "text/plain": [
       "<Figure size 432x288 with 1 Axes>"
      ]
     },
     "metadata": {
      "needs_background": "light"
     },
     "output_type": "display_data"
    }
   ],
   "source": [
    "from sklearn.svm import SVC\n",
    "import numpy as np\n",
    "import matplotlib.pyplot as plt\n",
    "from sklearn.metrics import precision_recall_curve\n",
    "svc=SVC()\n",
    "from sklearn.datasets import make_blobs\n",
    "# Use more data points for a smoother curve\n",
    "X, y = make_blobs(n_samples=(4000, 500), cluster_std=[7.0, 2], random_state=22)\n",
    "X_train, X_test, y_train, y_test = train_test_split(X, y, random_state=0)\n",
    "svc = SVC(gamma=.05).fit(X_train, y_train)\n",
    "precision, recall, thresholds = precision_recall_curve(\n",
    "    y_test, svc.decision_function(X_test))\n",
    "\n",
    "\n",
    "# find threshold closest to zero\n",
    "close_zero = np.argmin(np.abs(thresholds))\n",
    "plt.plot(precision[close_zero], recall[close_zero], 'o', markersize=10,\n",
    "         label=\"threshold zero\", fillstyle=\"none\", c='k', mew=2)\n",
    "\n",
    "plt.plot(precision, recall, label=\"precision recall curve\")\n",
    "plt.xlabel(\"Precision\")\n",
    "plt.ylabel(\"Recall\")\n",
    "plt.legend(loc=\"best\")"
   ]
  },
  {
   "cell_type": "code",
   "execution_count": 65,
   "metadata": {},
   "outputs": [
    {
     "data": {
      "text/plain": [
       "<matplotlib.legend.Legend at 0xdd0d4d0>"
      ]
     },
     "execution_count": 65,
     "metadata": {},
     "output_type": "execute_result"
    },
    {
     "data": {
      "image/png": "[encoded data removed]",
      "text/plain": [
       "<Figure size 432x288 with 1 Axes>"
      ]
     },
     "metadata": {
      "needs_background": "light"
     },
     "output_type": "display_data"
    }
   ],
   "source": [
    "from sklearn.ensemble import RandomForestClassifier\n",
    "\n",
    "rf = RandomForestClassifier(n_estimators=100, random_state=0, max_features=2)\n",
    "rf.fit(X_train, y_train)\n",
    "\n",
    "# RandomForestClassifier has predict_proba, but not decision_function\n",
    "precision_rf, recall_rf, thresholds_rf = precision_recall_curve(\n",
    "    y_test, rf.predict_proba(X_test)[:, 1])\n",
    "\n",
    "plt.plot(precision, recall, label=\"svc\")\n",
    "\n",
    "plt.plot(precision[close_zero], recall[close_zero], 'o', markersize=10,\n",
    "         label=\"threshold zero svc\", fillstyle=\"none\", c='k', mew=2)\n",
    "\n",
    "plt.plot(precision_rf, recall_rf, label=\"rf\")\n",
    "\n",
    "close_default_rf = np.argmin(np.abs(thresholds_rf - 0.5))\n",
    "plt.plot(precision_rf[close_default_rf], recall_rf[close_default_rf], '^', c='k',\n",
    "         markersize=10, label=\"threshold 0.5 rf\", fillstyle=\"none\", mew=2)\n",
    "plt.xlabel(\"Precision\")\n",
    "plt.ylabel(\"Recall\")\n",
    "plt.legend(loc=\"best\")"
   ]
  },
  {
   "cell_type": "markdown",
   "metadata": {},
   "source": [
    "曲线越靠近右上角，则分类其越好。随着准确率升高，模型能够保持较高的召回率则模型越好"
   ]
  },
  {
   "cell_type": "markdown",
   "metadata": {},
   "source": [
    "precision_recall_curve函数返回一个列表，包含按顺序排序的所有可能阀值对应的准确率和召回率，不同的分类器可能在曲线上不同的位置表现很好。如果我们只看f分数来比较两者的总体性能，那么可能会遗漏这些细节，因为f分数只反映了准确率-召回率曲线上的一个点，即默认阀值对应的那个点。"
   ]
  },
  {
   "cell_type": "markdown",
   "metadata": {},
   "source": [
    "随机森林在极值处的表现更好，在中间位置svm表现更好"
   ]
  },
  {
   "cell_type": "markdown",
   "metadata": {},
   "source": [
    "总结准确率-召回率曲线的一种方法是计算该曲线下的积分或面积，也叫做平均准确率，可以用average_precision_score函数来计算平均准确率"
   ]
  },
  {
   "cell_type": "code",
   "execution_count": 68,
   "metadata": {},
   "outputs": [
    {
     "name": "stdout",
     "output_type": "stream",
     "text": [
      "0.659559370099291 0.6663140319391998\n"
     ]
    }
   ],
   "source": [
    "from sklearn.metrics import average_precision_score\n",
    "ap_rf = average_precision_score(y_test, rf.predict_proba(X_test)[:, 1])\n",
    "ap_svc = average_precision_score(y_test, svc.decision_function(X_test))\n",
    "print(ap_rf,ap_svc)"
   ]
  },
  {
   "cell_type": "markdown",
   "metadata": {},
   "source": [
    "6.受试者工作特征ROC，它显示的是假正例率和真正例率，真正例率是召回率的另一个名称，假正例率是假正例占所有反类样本的比例FPR=FP/(FP+TN),可以用roc_curve函数来计算ROC曲线。对于roc曲线，理想的曲线是要靠近左上角，你希望分类其的召回率很高，同时保持假正例率很低。同样可以利用roc_auc_score函数来计算ROC曲线下的面积。"
   ]
  },
  {
   "cell_type": "markdown",
   "metadata": {},
   "source": [
    "AUC可以被解释为评估正例样本的排名，它等价于从正类样本中随机挑选一个点，由分类器给出的分数比从反类样本中随机挑选一个点的分数更高的概率。对于不平衡类别的分类的问题auc比精度更加有意义，但auc没有使用默认阀值，为了从高auc的模型中取得有用的分类结果，需要调节决策阀值"
   ]
  },
  {
   "cell_type": "markdown",
   "metadata": {},
   "source": [
    "# 5.3.3多分类指标"
   ]
  },
  {
   "cell_type": "code",
   "execution_count": 6,
   "metadata": {},
   "outputs": [
    {
     "name": "stdout",
     "output_type": "stream",
     "text": [
      "0.9533333333333334\n",
      "[[37  0  0  0  0  0  0  0  0  0]\n",
      " [ 0 39  0  0  0  0  2  0  2  0]\n",
      " [ 0  0 41  3  0  0  0  0  0  0]\n",
      " [ 0  0  1 43  0  0  0  0  0  1]\n",
      " [ 0  0  0  0 38  0  0  0  0  0]\n",
      " [ 0  1  0  0  0 47  0  0  0  0]\n",
      " [ 0  0  0  0  0  0 52  0  0  0]\n",
      " [ 0  1  0  1  1  0  0 45  0  0]\n",
      " [ 0  3  1  0  0  0  0  0 43  1]\n",
      " [ 0  0  0  1  0  1  0  0  1 44]]\n"
     ]
    }
   ],
   "source": [
    "#除了精度，常用的工具有混淆矩阵和分类报告\n",
    "from sklearn.datasets import load_digits\n",
    "digits=load_digits()\n",
    "import warnings;warnings.simplefilter('ignore')\n",
    "from sklearn.model_selection import train_test_split\n",
    "x_train, x_test, y_train, y_test = train_test_split(digits.data, digits.target, random_state=0)\n",
    "from sklearn.linear_model import LogisticRegression\n",
    "lr=LogisticRegression().fit(x_train,y_train)\n",
    "pred_lr=lr.predict(x_test)\n",
    "from sklearn.metrics import confusion_matrix\n",
    "confusion=confusion_matrix(y_test,pred_lr)\n",
    "print(lr.score(x_test,y_test))\n",
    "print(confusion)"
   ]
  },
  {
   "cell_type": "code",
   "execution_count": 7,
   "metadata": {},
   "outputs": [
    {
     "name": "stdout",
     "output_type": "stream",
     "text": [
      "              precision    recall  f1-score   support\n",
      "\n",
      "           0       1.00      1.00      1.00        37\n",
      "           1       0.89      0.91      0.90        43\n",
      "           2       0.95      0.93      0.94        44\n",
      "           3       0.90      0.96      0.92        45\n",
      "           4       0.97      1.00      0.99        38\n",
      "           5       0.98      0.98      0.98        48\n",
      "           6       0.96      1.00      0.98        52\n",
      "           7       1.00      0.94      0.97        48\n",
      "           8       0.93      0.90      0.91        48\n",
      "           9       0.96      0.94      0.95        47\n",
      "\n",
      "    accuracy                           0.95       450\n",
      "   macro avg       0.95      0.95      0.95       450\n",
      "weighted avg       0.95      0.95      0.95       450\n",
      "\n"
     ]
    }
   ],
   "source": [
    "#利用classification_report函数，我们可以计算每个类别的准确率，召回率和f分数\n",
    "from sklearn.metrics import classification_report\n",
    "print(classification_report(y_test,pred_lr))"
   ]
  },
  {
   "cell_type": "markdown",
   "metadata": {},
   "source": [
    "5.3.4回归指标\n",
    "R-Squared"
   ]
  },
  {
   "cell_type": "markdown",
   "metadata": {},
   "source": [
    "5.3.5在模型选择中使用评估指标"
   ]
  },
  {
   "cell_type": "code",
   "execution_count": 11,
   "metadata": {},
   "outputs": [
    {
     "name": "stdout",
     "output_type": "stream",
     "text": [
      "[0.89983306 0.89983306 0.89983306]\n"
     ]
    }
   ],
   "source": [
    "#分类问题的默认评分时精度\n",
    "import warnings;warnings.simplefilter('ignore')\n",
    "from sklearn.model_selection import cross_val_score\n",
    "from sklearn.svm import SVC\n",
    "svc=SVC()\n",
    "print(cross_val_score(svc,digits.data,digits.target==9))"
   ]
  },
  {
   "cell_type": "code",
   "execution_count": 13,
   "metadata": {},
   "outputs": [
    {
     "name": "stdout",
     "output_type": "stream",
     "text": [
      "[0.99372294 0.98957947 0.99594929]\n"
     ]
    }
   ],
   "source": [
    "#分数默认值修改为auc\n",
    "print(cross_val_score(svc,digits.data,digits.target==9,scoring='roc_auc'))"
   ]
  },
  {
   "cell_type": "code",
   "execution_count": 14,
   "metadata": {},
   "outputs": [
    {
     "data": {
      "text/plain": [
       "dict_keys(['explained_variance', 'r2', 'max_error', 'neg_median_absolute_error', 'neg_mean_absolute_error', 'neg_mean_squared_error', 'neg_mean_squared_log_error', 'accuracy', 'roc_auc', 'balanced_accuracy', 'average_precision', 'neg_log_loss', 'brier_score_loss', 'adjusted_rand_score', 'homogeneity_score', 'completeness_score', 'v_measure_score', 'mutual_info_score', 'adjusted_mutual_info_score', 'normalized_mutual_info_score', 'fowlkes_mallows_score', 'precision', 'precision_macro', 'precision_micro', 'precision_samples', 'precision_weighted', 'recall', 'recall_macro', 'recall_micro', 'recall_samples', 'recall_weighted', 'f1', 'f1_macro', 'f1_micro', 'f1_samples', 'f1_weighted', 'jaccard', 'jaccard_macro', 'jaccard_micro', 'jaccard_samples', 'jaccard_weighted'])"
      ]
     },
     "execution_count": 14,
     "metadata": {},
     "output_type": "execute_result"
    }
   ],
   "source": [
    "from sklearn.metrics.scorer import SCORERS\n",
    "SCORERS.keys()\n",
    "#scoring所有参数"
   ]
  },
  {
   "cell_type": "code",
   "execution_count": 19,
   "metadata": {},
   "outputs": [
    {
     "name": "stdout",
     "output_type": "stream",
     "text": [
      "Grid-Search with accuracy\n",
      "Best parameters: {'gamma': 0.0001}\n",
      "Best cross-validation score (accuracy)): 0.970\n",
      "Test set AUC: 0.992\n",
      "Test set accuracy: 0.973\n"
     ]
    }
   ],
   "source": [
    "from sklearn.model_selection import GridSearchCV\n",
    "from sklearn.metrics import roc_auc_score\n",
    "from sklearn.model_selection import train_test_split\n",
    "x_train, x_test, y_train, y_test = train_test_split(digits.data, digits.target==9, random_state=0)\n",
    "param_grid = {'gamma': [0.0001, 0.01, 0.1, 1, 10]}\n",
    "#使用默认的精度\n",
    "grid = GridSearchCV(SVC(), param_grid=param_grid)\n",
    "grid.fit(x_train, y_train)\n",
    "print(\"Grid-Search with accuracy\")\n",
    "print(\"Best parameters:\", grid.best_params_)\n",
    "print(\"Best cross-validation score (accuracy)): {:.3f}\".format(grid.best_score_))\n",
    "print(\"Test set AUC: {:.3f}\".format(roc_auc_score(y_test, grid.decision_function(x_test))))\n",
    "print(\"Test set accuracy: {:.3f}\".format(grid.score(x_test, y_test)))"
   ]
  },
  {
   "cell_type": "code",
   "execution_count": 20,
   "metadata": {},
   "outputs": [
    {
     "name": "stdout",
     "output_type": "stream",
     "text": [
      "\n",
      "Grid-Search with AUC\n",
      "Best parameters: {'gamma': 0.01}\n",
      "Best cross-validation score (AUC): 0.997\n",
      "Test set AUC: 1.000\n",
      "Test set accuracy: 1.000\n"
     ]
    }
   ],
   "source": [
    "#使用auc评分来代替\n",
    "grid = GridSearchCV(SVC(), param_grid=param_grid, scoring=\"roc_auc\")\n",
    "grid.fit(x_train, y_train)\n",
    "print(\"\\nGrid-Search with AUC\")\n",
    "print(\"Best parameters:\", grid.best_params_)\n",
    "print(\"Best cross-validation score (AUC): {:.3f}\".format(grid.best_score_))\n",
    "print(\"Test set AUC: {:.3f}\".format(roc_auc_score(y_test, grid.decision_function(x_test))))\n",
    "print(\"Test set accuracy: {:.3f}\".format(grid.score(x_test, y_test)))"
   ]
  },
  {
   "cell_type": "code",
   "execution_count": null,
   "metadata": {},
   "outputs": [],
   "source": []
  }
 ],
 "metadata": {
  "kernelspec": {
   "display_name": "Python 3",
   "language": "python",
   "name": "python3"
  },
  "language_info": {
   "codemirror_mode": {
    "name": "ipython",
    "version": 3
   },
   "file_extension": ".py",
   "mimetype": "text/x-python",
   "name": "python",
   "nbconvert_exporter": "python",
   "pygments_lexer": "ipython3",
   "version": "3.7.3"
  }
 },
 "nbformat": 4,
 "nbformat_minor": 2
}
